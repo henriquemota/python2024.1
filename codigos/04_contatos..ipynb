{
 "cells": [
  {
   "cell_type": "code",
   "execution_count": 1,
   "metadata": {},
   "outputs": [],
   "source": [
    "from os import path\n",
    "import sqlite3 as connector"
   ]
  },
  {
   "cell_type": "code",
   "execution_count": 16,
   "metadata": {},
   "outputs": [],
   "source": [
    "query = \"\"\"\n",
    "\n",
    "CREATE TABLE cidades (\n",
    "  codigo integer not null primary key autoincrement,\n",
    "  nome text not null,\n",
    "  estado text not null\n",
    ");\n",
    "\n",
    "CREATE TABLE contatos (\n",
    "  codigo integer not null primary key autoincrement,\n",
    "  nome text not null,\n",
    "  telefone text not null,\n",
    "  email text not null,\n",
    "  codigo_cidade integer not null references cidades (codigo)\n",
    ");\n",
    "\n",
    "\"\"\""
   ]
  },
  {
   "cell_type": "code",
   "execution_count": 17,
   "metadata": {},
   "outputs": [],
   "source": [
    "with connector.connect(path.join(\"db\", \"contatos.sqlite\")) as conn:\n",
    "  cursor = conn.cursor()\n",
    "  cursor.executescript(query)"
   ]
  }
 ],
 "metadata": {
  "kernelspec": {
   "display_name": ".venv",
   "language": "python",
   "name": "python3"
  },
  "language_info": {
   "codemirror_mode": {
    "name": "ipython",
    "version": 3
   },
   "file_extension": ".py",
   "mimetype": "text/x-python",
   "name": "python",
   "nbconvert_exporter": "python",
   "pygments_lexer": "ipython3",
   "version": "3.11.9"
  }
 },
 "nbformat": 4,
 "nbformat_minor": 2
}
