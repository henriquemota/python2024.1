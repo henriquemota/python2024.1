{
 "cells": [
  {
   "cell_type": "code",
   "execution_count": 18,
   "metadata": {},
   "outputs": [],
   "source": [
    "from os import path\n",
    "import sqlite3 as connector\n",
    "import pandas as pd"
   ]
  },
  {
   "cell_type": "markdown",
   "metadata": {},
   "source": [
    "### Cria o script de criação da tabela"
   ]
  },
  {
   "cell_type": "code",
   "execution_count": 16,
   "metadata": {},
   "outputs": [],
   "source": [
    "query = \"\"\"\n",
    "\n",
    "CREATE TABLE cidades (\n",
    "  codigo integer not null primary key autoincrement,\n",
    "  nome text not null,\n",
    "  estado text not null\n",
    ");\n",
    "\n",
    "CREATE TABLE contatos (\n",
    "  codigo integer not null primary key autoincrement,\n",
    "  nome text not null,\n",
    "  telefone text not null,\n",
    "  email text not null,\n",
    "  codigo_cidade integer not null references cidades (codigo)\n",
    ");\n",
    "\n",
    "\"\"\""
   ]
  },
  {
   "cell_type": "markdown",
   "metadata": {},
   "source": [
    "### Conecta no banco de dados e executa o script para criação do banco e das tabelas"
   ]
  },
  {
   "cell_type": "code",
   "execution_count": 17,
   "metadata": {},
   "outputs": [],
   "source": [
    "with connector.connect(path.join(\"db\", \"contatos.sqlite\")) as conn:\n",
    "  cursor = conn.cursor()\n",
    "  cursor.executescript(query)"
   ]
  },
  {
   "cell_type": "markdown",
   "metadata": {},
   "source": [
    "### Recupera os dados do município do ceará"
   ]
  },
  {
   "cell_type": "code",
   "execution_count": 36,
   "metadata": {},
   "outputs": [],
   "source": [
    "data = pd.read_html(\"https://pt.wikipedia.org/wiki/Lista_de_munic%C3%ADpios_do_Cear%C3%A1\")"
   ]
  },
  {
   "cell_type": "markdown",
   "metadata": {},
   "source": [
    "### Converte o dataframe em uma lista de tuplas"
   ]
  },
  {
   "cell_type": "code",
   "execution_count": 42,
   "metadata": {},
   "outputs": [
    {
     "data": {
      "text/plain": [
       "[('Abaiara',),\n",
       " ('Acarape',),\n",
       " ('Acaraú',),\n",
       " ('Acopiara',),\n",
       " ('Aiuaba',),\n",
       " ('Alcântaras',),\n",
       " ('Altaneira',),\n",
       " ('Alto Santo',),\n",
       " ('Amontada',),\n",
       " ('Antonina do Norte',),\n",
       " ('Apuiarés',),\n",
       " ('Aquiraz',),\n",
       " ('Aracati',),\n",
       " ('Aracoiaba',),\n",
       " ('Ararendá',),\n",
       " ('Araripe',),\n",
       " ('Aratuba',),\n",
       " ('Arneiroz',),\n",
       " ('Assaré',),\n",
       " ('Aurora',),\n",
       " ('Baixio',),\n",
       " ('Banabuiú',),\n",
       " ('Barbalha',),\n",
       " ('Barreira',),\n",
       " ('Barro',),\n",
       " ('Barroquinha',),\n",
       " ('Baturité',),\n",
       " ('Beberibe',),\n",
       " ('Bela Cruz',),\n",
       " ('Boa Viagem',),\n",
       " ('Brejo Santo',),\n",
       " ('Camocim',),\n",
       " ('Campos Sales',),\n",
       " ('Canindé',),\n",
       " ('Capistrano',),\n",
       " ('Caridade',),\n",
       " ('Cariré',),\n",
       " ('Caririaçu',),\n",
       " ('Cariús',),\n",
       " ('Carnaubal',),\n",
       " ('Cascavel',),\n",
       " ('Catarina',),\n",
       " ('Catunda',),\n",
       " ('Caucaia',),\n",
       " ('Cedro',),\n",
       " ('Chaval',),\n",
       " ('Choró',),\n",
       " ('Chorozinho',),\n",
       " ('Coreaú',),\n",
       " ('Crateús',),\n",
       " ('Crato',),\n",
       " ('Croatá',),\n",
       " ('Cruz',),\n",
       " ('Deputado Irapuan Pinheiro',),\n",
       " ('Ereré',),\n",
       " ('Eusébio',),\n",
       " ('Farias Brito',),\n",
       " ('Forquilha',),\n",
       " ('Fortaleza',),\n",
       " ('Fortim',),\n",
       " ('Frecheirinha',),\n",
       " ('General Sampaio',),\n",
       " ('Graça',),\n",
       " ('Granja',),\n",
       " ('Granjeiro',),\n",
       " ('Groaíras',),\n",
       " ('Guaiúba',),\n",
       " ('Guaraciaba do Norte',),\n",
       " ('Guaramiranga',),\n",
       " ('Hidrolândia',),\n",
       " ('Horizonte',),\n",
       " ('Ibaretama',),\n",
       " ('Ibiapina',),\n",
       " ('Ibicuitinga',),\n",
       " ('Icapuí',),\n",
       " ('Icó',),\n",
       " ('Iguatu',),\n",
       " ('Independência',),\n",
       " ('Ipaporanga',),\n",
       " ('Ipaumirim',),\n",
       " ('Ipu',),\n",
       " ('Ipueiras',),\n",
       " ('Iracema',),\n",
       " ('Irauçuba',),\n",
       " ('Itaiçaba',),\n",
       " ('Itaitinga',),\n",
       " ('Itapajé',),\n",
       " ('Itapipoca',),\n",
       " ('Itapiúna',),\n",
       " ('Itarema',),\n",
       " ('Itatira',),\n",
       " ('Jaguaretama',),\n",
       " ('Jaguaribara',),\n",
       " ('Jaguaribe',),\n",
       " ('Jaguaruana',),\n",
       " ('Jardim',),\n",
       " ('Jati',),\n",
       " ('Jijoca de Jericoacoara',),\n",
       " ('Juazeiro do Norte',),\n",
       " ('Jucás',),\n",
       " ('Lavras da Mangabeira',),\n",
       " ('Limoeiro do Norte',),\n",
       " ('Madalena',),\n",
       " ('Maracanaú',),\n",
       " ('Maranguape',),\n",
       " ('Marco',),\n",
       " ('Martinópole',),\n",
       " ('Massapê',),\n",
       " ('Mauriti',),\n",
       " ('Meruoca',),\n",
       " ('Milagres',),\n",
       " ('Milhã',),\n",
       " ('Miraíma',),\n",
       " ('Missão Velha',),\n",
       " ('Mombaça',),\n",
       " ('Monsenhor Tabosa',),\n",
       " ('Morada Nova',),\n",
       " ('Moraújo',),\n",
       " ('Morrinhos',),\n",
       " ('Mucambo',),\n",
       " ('Mulungu',),\n",
       " ('Nova Olinda',),\n",
       " ('Nova Russas',),\n",
       " ('Novo Oriente',),\n",
       " ('Ocara',),\n",
       " ('Orós',),\n",
       " ('Pacajus',),\n",
       " ('Pacatuba',),\n",
       " ('Pacoti',),\n",
       " ('Pacujá',),\n",
       " ('Palhano',),\n",
       " ('Palmácia',),\n",
       " ('Paracuru',),\n",
       " ('Paraipaba',),\n",
       " ('Parambu',),\n",
       " ('Paramoti',),\n",
       " ('Pedra Branca',),\n",
       " ('Penaforte',),\n",
       " ('Pentecoste',),\n",
       " ('Pereiro',),\n",
       " ('Pindoretama',),\n",
       " ('Piquet Carneiro',),\n",
       " ('Pires Ferreira',),\n",
       " ('Poranga',),\n",
       " ('Porteiras',),\n",
       " ('Potengi',),\n",
       " ('Potiretama',),\n",
       " ('Quiterianópolis',),\n",
       " ('Quixadá',),\n",
       " ('Quixelô',),\n",
       " ('Quixeramobim',),\n",
       " ('Quixeré',),\n",
       " ('Redenção',),\n",
       " ('Reriutaba',),\n",
       " ('Russas',),\n",
       " ('Saboeiro',),\n",
       " ('Salitre',),\n",
       " ('Santa Quitéria',),\n",
       " ('Santana do Acaraú',),\n",
       " ('Santana do Cariri',),\n",
       " ('São Benedito',),\n",
       " ('São Gonçalo do Amarante',),\n",
       " ('São João do Jaguaribe',),\n",
       " ('São Luís do Curu',),\n",
       " ('Senador Pompeu',),\n",
       " ('Senador Sá',),\n",
       " ('Sobral',),\n",
       " ('Solonópole',),\n",
       " ('Tabuleiro do Norte',),\n",
       " ('Tamboril',),\n",
       " ('Tarrafas',),\n",
       " ('Tauá',),\n",
       " ('Tejuçuoca',),\n",
       " ('Tianguá',),\n",
       " ('Trairi',),\n",
       " ('Tururu',),\n",
       " ('Ubajara',),\n",
       " ('Umari',),\n",
       " ('Umirim',),\n",
       " ('Uruburetama',),\n",
       " ('Uruoca',),\n",
       " ('Varjota',),\n",
       " ('Várzea Alegre',),\n",
       " ('Viçosa do Ceará',)]"
      ]
     },
     "execution_count": 42,
     "metadata": {},
     "output_type": "execute_result"
    }
   ],
   "source": [
    "municipios = list(data[0][['Município']].to_records(index=False))"
   ]
  },
  {
   "cell_type": "markdown",
   "metadata": {},
   "source": [
    "### Insere a lista de tuplas de forma única"
   ]
  },
  {
   "cell_type": "code",
   "execution_count": 46,
   "metadata": {},
   "outputs": [],
   "source": [
    "with connector.connect(path.join(\"db\", \"contatos.sqlite\")) as conn:\n",
    "  cursor = conn.cursor()\n",
    "  cursor.executemany(\"insert into cidades (nome, estado) values (?, 'CE');\", municipios)"
   ]
  },
  {
   "cell_type": "markdown",
   "metadata": {},
   "source": [
    "### Insere um registro com parametros"
   ]
  },
  {
   "cell_type": "code",
   "execution_count": 51,
   "metadata": {},
   "outputs": [],
   "source": [
    "with connector.connect(path.join(\"db\", \"contatos.sqlite\")) as conn:\n",
    "  registro = ('Henrique Mota', '85999999999', 'contato@email.com', 243)\n",
    "  cursor = conn.cursor()\n",
    "  cursor.execute(\"insert into contatos (nome, telefone, email, codigo_cidade) values (?, ?, ?, ?);\", registro)"
   ]
  },
  {
   "cell_type": "code",
   "execution_count": 52,
   "metadata": {},
   "outputs": [],
   "source": [
    "with connector.connect(path.join(\"db\", \"contatos.sqlite\")) as conn:\n",
    "  registro = {'nome': 'Roberto Mota', 'telefone': '85888888888', 'email': 'contato@email.com', 'codigo_cidade': 243}\n",
    "  cursor = conn.cursor()\n",
    "  cursor.execute(\"insert into contatos (nome, telefone, email, codigo_cidade) values (:nome, :telefone, :email, :codigo_cidade);\", registro)"
   ]
  }
 ],
 "metadata": {
  "kernelspec": {
   "display_name": ".venv",
   "language": "python",
   "name": "python3"
  },
  "language_info": {
   "codemirror_mode": {
    "name": "ipython",
    "version": 3
   },
   "file_extension": ".py",
   "mimetype": "text/x-python",
   "name": "python",
   "nbconvert_exporter": "python",
   "pygments_lexer": "ipython3",
   "version": "3.11.9"
  }
 },
 "nbformat": 4,
 "nbformat_minor": 2
}
