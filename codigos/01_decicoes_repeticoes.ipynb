{
 "cells": [
  {
   "cell_type": "markdown",
   "metadata": {},
   "source": [
    "## Estruturas de decisão"
   ]
  },
  {
   "cell_type": "code",
   "execution_count": 2,
   "metadata": {},
   "outputs": [
    {
     "name": "stdout",
     "output_type": "stream",
     "text": [
      "sempre executada\n"
     ]
    }
   ],
   "source": [
    "a = -10\n",
    "b = 3\n",
    "\n",
    "if a > b :\n",
    "  print(\"a > b\")\n",
    "  print(\"aqui uma nova linha\")\n",
    "\n",
    "print(\"sempre executada\")"
   ]
  },
  {
   "cell_type": "code",
   "execution_count": 6,
   "metadata": {},
   "outputs": [
    {
     "name": "stdout",
     "output_type": "stream",
     "text": [
      "a e b são iguais\n"
     ]
    }
   ],
   "source": [
    "a = int(input('informe o primeiro valor'))\n",
    "b = int(input('informe o segundo valor'))\n",
    "\n",
    "# if (a > b): print(\"a é maior que b\")\n",
    "# if (b > a): print(\"b 'é maior que a\")\n",
    "\n",
    "if (a > b): print(\"a é maior que b\")\n",
    "elif (a < b): print(\"b é maior que a\")\n",
    "else: print(\"a e b são iguais\")\n"
   ]
  },
  {
   "cell_type": "markdown",
   "metadata": {},
   "source": [
    "## Cálculo do IMC"
   ]
  },
  {
   "cell_type": "code",
   "execution_count": 7,
   "metadata": {},
   "outputs": [
    {
     "name": "stdout",
     "output_type": "stream",
     "text": [
      "obesidade grave\n"
     ]
    }
   ],
   "source": [
    "peso = float(input(\"informe seu peso\"))\n",
    "altura = float(input(\"informe sua altura\"))\n",
    "\n",
    "imc = peso / (altura ** 2)\n",
    "\n",
    "if imc <=18.5 : print(\"magreza\")\n",
    "elif imc <=24.9: print(\"normal\")\n",
    "elif imc <=29.9: print(\"sobrepeso\")\n",
    "elif imc <=39.9: print(\"obesidade\")\n",
    "else: print(\"obesidade grave\")"
   ]
  },
  {
   "cell_type": "code",
   "execution_count": 8,
   "metadata": {},
   "outputs": [
    {
     "name": "stdout",
     "output_type": "stream",
     "text": [
      "obesidade\n"
     ]
    }
   ],
   "source": [
    "peso = float(input(\"informe seu peso\"))\n",
    "altura = float(input(\"informe sua altura\"))\n",
    "\n",
    "def calcularIMC(peso=0, altura=0):\n",
    "  return peso / (altura ** 2)\n",
    "\n",
    "def resultadoIMC(imc):\n",
    "  if imc <=18.5 : return \"magreza\"\n",
    "  elif imc <=24.9: return \"normal\"\n",
    "  elif imc <=29.9: return \"sobrepeso\"\n",
    "  elif imc <=39.9: return \"obesidade\"\n",
    "  else: return \"obesidade grave\"\n",
    "\n",
    "imc = calcularIMC(peso=peso, altura=altura)\n",
    "print(resultadoIMC(imc))"
   ]
  },
  {
   "cell_type": "markdown",
   "metadata": {},
   "source": [
    "## Operador ternário"
   ]
  },
  {
   "cell_type": "code",
   "execution_count": 9,
   "metadata": {},
   "outputs": [
    {
     "name": "stdout",
     "output_type": "stream",
     "text": [
      "b > a\n",
      "b > a\n"
     ]
    }
   ],
   "source": [
    "a = 10\n",
    "b = 20\n",
    "\n",
    "if a > b: print(\"a > b\")\n",
    "else: print(\"b > a\")\n",
    "\n",
    "print(\"a < b\") if a > b else print(\"b > a\")"
   ]
  },
  {
   "cell_type": "markdown",
   "metadata": {},
   "source": [
    "##  Cálculo da média\n"
   ]
  },
  {
   "cell_type": "code",
   "execution_count": 11,
   "metadata": {},
   "outputs": [
    {
     "name": "stdout",
     "output_type": "stream",
     "text": [
      "lamento, reprovado com média 5.7\n"
     ]
    }
   ],
   "source": [
    "n1 = float(input('informa e nota 1'))\n",
    "n2 = float(input('informa e nota 2'))\n",
    "media = round((n1 + n2) / 2, 1)\n",
    "\n",
    "if media >= 6 :  print(f'aprovado com média {media}')\n",
    "else :  print(f'lamento, reprovado com média {media}')"
   ]
  },
  {
   "cell_type": "markdown",
   "metadata": {},
   "source": [
    "## Cálculo da média para \"N\" pessoas"
   ]
  },
  {
   "cell_type": "code",
   "execution_count": 15,
   "metadata": {},
   "outputs": [
    {
     "name": "stdout",
     "output_type": "stream",
     "text": [
      "o aluno 1 foi aprovado com média 6.5\n",
      "o aluno 2 foi aprovado com média 7.8\n",
      "lamento, o aluno 3 foi reprovado com média 5.4\n",
      "o aluno 4 foi aprovado com média 6.2\n"
     ]
    }
   ],
   "source": [
    "n = int(input(\"informe o total de alunos\"))\n",
    "i = 1\n",
    "while i <= n:  \n",
    "  n1 = float(input('informa e nota 1'))\n",
    "  n2 = float(input('informa e nota 2'))\n",
    "  media = round((n1 + n2) / 2, 1)\n",
    "\n",
    "  if media >= 6 :  print(f'o aluno {i} foi aprovado com média {media}')\n",
    "  else :  print(f'lamento, o aluno {i} foi reprovado com média {media}')\n",
    "\n",
    "  i += 1"
   ]
  },
  {
   "cell_type": "markdown",
   "metadata": {},
   "source": [
    "## Trabalhando com break e continue"
   ]
  },
  {
   "cell_type": "code",
   "execution_count": 21,
   "metadata": {},
   "outputs": [
    {
     "name": "stdout",
     "output_type": "stream",
     "text": [
      "o valor de i (0) é menor que 10\n",
      "o valor de i (1) é menor que 10\n",
      "o valor de i (2) é menor que 10\n",
      "o valor de i (3) é menor que 10\n",
      "o valor de i (4) é menor que 10\n",
      "o valor de i (5) é menor que 10\n"
     ]
    }
   ],
   "source": [
    "i = 0 # variável de controle\n",
    "while i < 10:\n",
    "  if i > 5: break\n",
    "  print(f\"o valor de i ({i}) é menor que 10\")\n",
    "  i += 1"
   ]
  },
  {
   "cell_type": "code",
   "execution_count": 23,
   "metadata": {},
   "outputs": [
    {
     "name": "stdout",
     "output_type": "stream",
     "text": [
      "o valor de i (1) é menor que 10\n",
      "o valor de i (3) é menor que 10\n",
      "o valor de i (5) é menor que 10\n",
      "o valor de i (7) é menor que 10\n",
      "o valor de i (9) é menor que 10\n"
     ]
    }
   ],
   "source": [
    "i = 0 # variável de controle\n",
    "while i < 10:\n",
    "  if i % 2 == 0: \n",
    "    i += 1\n",
    "    continue\n",
    "  print(f\"o valor de i ({i}) é menor que 10\")\n",
    "  i += 1"
   ]
  }
 ],
 "metadata": {
  "kernelspec": {
   "display_name": ".venv",
   "language": "python",
   "name": "python3"
  },
  "language_info": {
   "codemirror_mode": {
    "name": "ipython",
    "version": 3
   },
   "file_extension": ".py",
   "mimetype": "text/x-python",
   "name": "python",
   "nbconvert_exporter": "python",
   "pygments_lexer": "ipython3",
   "version": "3.11.5"
  }
 },
 "nbformat": 4,
 "nbformat_minor": 2
}
