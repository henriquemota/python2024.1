{
 "cells": [
  {
   "cell_type": "markdown",
   "metadata": {},
   "source": [
    "# Atividade de sala"
   ]
  },
  {
   "cell_type": "markdown",
   "metadata": {},
   "source": [
    "## Mapeia o diretório dos arquivos"
   ]
  },
  {
   "cell_type": "code",
   "execution_count": 1,
   "metadata": {},
   "outputs": [],
   "source": [
    "from os import path, getcwd\n",
    "\n",
    "folder = path.join(getcwd(), 'arquivos')"
   ]
  },
  {
   "cell_type": "markdown",
   "metadata": {},
   "source": [
    "## Abre o arquivo e manipula os dados"
   ]
  },
  {
   "cell_type": "code",
   "execution_count": 5,
   "metadata": {},
   "outputs": [
    {
     "name": "stdout",
     "output_type": "stream",
     "text": [
      "['joao#10#6#8.5\\n', 'maria#9#6.8#8.5\\n', 'pedro#7#4#3.8\\n', 'andre#10#6#8.5\\n', 'fatima#9#6.8#8.5\\n', 'saulo#7.7#4.9#7.8\\n', 'joana#8.3#48.7#6.8\\n', 'tiago#6.8#5.3#5.8\\n', 'bruno#7.5#6.8#4.8']\n"
     ]
    }
   ],
   "source": [
    "arquivo = path.join(folder, 'dados.txt')\n",
    "with open(arquivo) as a:\n",
    "  dados = a.readlines()\n",
    "\n",
    "print(dados)"
   ]
  },
  {
   "cell_type": "markdown",
   "metadata": {},
   "source": [
    "## Manipula os dados para verificar os aprovados e reprovados"
   ]
  },
  {
   "cell_type": "code",
   "execution_count": 10,
   "metadata": {},
   "outputs": [],
   "source": [
    "aprovados = []\n",
    "reprovados = []\n",
    "\n",
    "for dado in dados:\n",
    "  notas = dado[0:-1].split(\"#\")\n",
    "  n1, n2, n3 = float(notas[1]), float(notas[2]), float(notas[3])\n",
    "  media = (n1+n2+n3) / 3\n",
    "  if round(media,1) >= 6: aprovados.append(dado[0:-1] + '#' + str(round(media,1)) + '\\n')\n",
    "  else: reprovados.append(dado[0:-1] + '#' + str(round(media,1)) + '\\n')\n",
    "\n",
    "arquivo_aprovados = path.join(folder, 'aprovados.txt')\n",
    "arquivo_reprovados = path.join(folder, 'reprovados.txt')\n",
    "\n",
    "with open(path.join(arquivo_aprovados), mode='w') as a:\n",
    "  a.writelines(aprovados)\n",
    "\n",
    "with open(path.join(arquivo_reprovados), mode='w') as a:\n",
    "  a.writelines(reprovados)"
   ]
  }
 ],
 "metadata": {
  "kernelspec": {
   "display_name": ".venv",
   "language": "python",
   "name": "python3"
  },
  "language_info": {
   "codemirror_mode": {
    "name": "ipython",
    "version": 3
   },
   "file_extension": ".py",
   "mimetype": "text/x-python",
   "name": "python",
   "nbconvert_exporter": "python",
   "pygments_lexer": "ipython3",
   "version": "3.11.5"
  }
 },
 "nbformat": 4,
 "nbformat_minor": 2
}
