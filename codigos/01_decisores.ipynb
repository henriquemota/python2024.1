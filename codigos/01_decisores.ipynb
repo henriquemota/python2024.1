{
 "cells": [
  {
   "cell_type": "code",
   "execution_count": 5,
   "metadata": {},
   "outputs": [],
   "source": [
    "a = int(input('informe o valor de a'))\n",
    "b = int(input('informe o valor de b'))"
   ]
  },
  {
   "cell_type": "code",
   "execution_count": 6,
   "metadata": {},
   "outputs": [
    {
     "name": "stdout",
     "output_type": "stream",
     "text": [
      "o valor de a=10 é maior que o valor de b=5\n",
      "sempre será executado\n"
     ]
    }
   ],
   "source": [
    "if a > b: \n",
    "  print(f'o valor de a={a} é maior que o valor de b={b}')\n",
    "else: \n",
    "  print(f'valor de b={b} é maior que o valor de a={a}')\n",
    "\n",
    "print('sempre será executado')"
   ]
  },
  {
   "cell_type": "code",
   "execution_count": 7,
   "metadata": {},
   "outputs": [
    {
     "name": "stdout",
     "output_type": "stream",
     "text": [
      "a=10 > b=5\n"
     ]
    }
   ],
   "source": [
    "print(f'a={a} < b={b}') if a < b else print(f'a={a} > b={b}') "
   ]
  },
  {
   "cell_type": "code",
   "execution_count": 9,
   "metadata": {},
   "outputs": [
    {
     "name": "stdout",
     "output_type": "stream",
     "text": [
      "nao localizado\n"
     ]
    }
   ],
   "source": [
    "categoria = int(input('informe o valor da categoria'))\n",
    "\n",
    "if categoria == 1: \n",
    "  print(\"valor 10\")\n",
    "elif categoria == 2:\n",
    "  print(\"valor 20\")\n",
    "else:\n",
    "  print(\"nao localizado\")\n",
    "\n"
   ]
  }
 ],
 "metadata": {
  "kernelspec": {
   "display_name": ".venv",
   "language": "python",
   "name": "python3"
  },
  "language_info": {
   "codemirror_mode": {
    "name": "ipython",
    "version": 3
   },
   "file_extension": ".py",
   "mimetype": "text/x-python",
   "name": "python",
   "nbconvert_exporter": "python",
   "pygments_lexer": "ipython3",
   "version": "3.11.5"
  }
 },
 "nbformat": 4,
 "nbformat_minor": 2
}
