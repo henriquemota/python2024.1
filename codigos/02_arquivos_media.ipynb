{
 "cells": [
  {
   "cell_type": "markdown",
   "metadata": {},
   "source": [
    "# Manipulando arquivos - média dos alunos"
   ]
  },
  {
   "cell_type": "code",
   "execution_count": 1,
   "metadata": {},
   "outputs": [],
   "source": [
    "from os import path, getcwd\n",
    "base = path.join(getcwd(), 'arquivos')"
   ]
  },
  {
   "cell_type": "code",
   "execution_count": 2,
   "metadata": {},
   "outputs": [
    {
     "name": "stdout",
     "output_type": "stream",
     "text": [
      "[('henrique', 8.0, 5.0, 6.5), ('joao', 4.0, 4.0, 4.0)]\n"
     ]
    }
   ],
   "source": [
    "n = int(input(\"informe o total de alunos: \"))\n",
    "alunos = []\n",
    "\n",
    "for i in range(0, n):\n",
    "  nome = input('informe seu nome: ')\n",
    "  nota1 = float(input('informe sua nota 1: '))\n",
    "  nota2 = float(input('informe sua nota 2: '))\n",
    "  media = (nota1 + nota2) / 2\n",
    "\n",
    "  alunos.append((nome, nota1, nota2, media))\n",
    "\n",
    "print(alunos)"
   ]
  },
  {
   "cell_type": "code",
   "execution_count": 6,
   "metadata": {},
   "outputs": [
    {
     "name": "stdout",
     "output_type": "stream",
     "text": [
      "arquivo gravado\n"
     ]
    }
   ],
   "source": [
    "aprovados = open(path.join(base, 'aprovados.txt'), 'w')\n",
    "reprovados = open(path.join(base, 'reprovados.txt'), 'w')\n",
    "\n",
    "for aluno in alunos:\n",
    "  linha = f\"{aluno[0]};{aluno[1]};{aluno[2]};{aluno[3]}\\n\"\n",
    "  aprovados.write(linha) if (aluno[3]>=6) else reprovados.write(linha)\n",
    "\n",
    "aprovados.close()\n",
    "reprovados.close()\n",
    "print('arquivo gravado')"
   ]
  },
  {
   "cell_type": "code",
   "execution_count": null,
   "metadata": {},
   "outputs": [],
   "source": []
  },
  {
   "cell_type": "code",
   "execution_count": null,
   "metadata": {},
   "outputs": [],
   "source": []
  },
  {
   "cell_type": "code",
   "execution_count": null,
   "metadata": {},
   "outputs": [],
   "source": []
  }
 ],
 "metadata": {
  "kernelspec": {
   "display_name": ".venv",
   "language": "python",
   "name": "python3"
  },
  "language_info": {
   "codemirror_mode": {
    "name": "ipython",
    "version": 3
   },
   "file_extension": ".py",
   "mimetype": "text/x-python",
   "name": "python",
   "nbconvert_exporter": "python",
   "pygments_lexer": "ipython3",
   "version": "3.11.5"
  }
 },
 "nbformat": 4,
 "nbformat_minor": 2
}
