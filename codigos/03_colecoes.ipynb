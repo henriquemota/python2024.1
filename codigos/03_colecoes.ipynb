{
 "cells": [
  {
   "cell_type": "markdown",
   "metadata": {},
   "source": [
    "# Trabalhando com coleções"
   ]
  },
  {
   "cell_type": "markdown",
   "metadata": {},
   "source": [
    "## Listas"
   ]
  },
  {
   "cell_type": "code",
   "execution_count": 15,
   "metadata": {},
   "outputs": [
    {
     "name": "stdout",
     "output_type": "stream",
     "text": [
      "[1, 1, 1, 1, 2, 3]\n",
      "[3, 2, 1, 1, 1, 1]\n",
      "[10, 3, 2, 1, 1, 1]\n",
      "(1, 1, 1, 2, 3)\n"
     ]
    }
   ],
   "source": [
    "lista = [1,1,1,1,2,3]\n",
    "print(lista)\n",
    "\n",
    "lista.sort(reverse=True)\n",
    "print(lista)\n",
    "lista[5] = 10\n",
    "lista.sort(reverse=True)\n",
    "print(lista)\n"
   ]
  },
  {
   "cell_type": "markdown",
   "metadata": {},
   "source": [
    "## Tuplas"
   ]
  },
  {
   "cell_type": "code",
   "execution_count": 16,
   "metadata": {},
   "outputs": [
    {
     "name": "stdout",
     "output_type": "stream",
     "text": [
      "(1, 1, 1, 2, 3)\n"
     ]
    },
    {
     "ename": "TypeError",
     "evalue": "'tuple' object does not support item assignment",
     "output_type": "error",
     "traceback": [
      "\u001b[0;31m---------------------------------------------------------------------------\u001b[0m",
      "\u001b[0;31mTypeError\u001b[0m                                 Traceback (most recent call last)",
      "Cell \u001b[0;32mIn[16], line 4\u001b[0m\n\u001b[1;32m      1\u001b[0m tupla \u001b[38;5;241m=\u001b[39m (\u001b[38;5;241m1\u001b[39m,\u001b[38;5;241m1\u001b[39m,\u001b[38;5;241m1\u001b[39m,\u001b[38;5;241m2\u001b[39m,\u001b[38;5;241m3\u001b[39m)\n\u001b[1;32m      2\u001b[0m \u001b[38;5;28mprint\u001b[39m(tupla)\n\u001b[0;32m----> 4\u001b[0m \u001b[43mtupla\u001b[49m\u001b[43m[\u001b[49m\u001b[38;5;241;43m0\u001b[39;49m\u001b[43m]\u001b[49m \u001b[38;5;241m=\u001b[39m \u001b[38;5;241m10\u001b[39m\n\u001b[1;32m      5\u001b[0m \u001b[38;5;28mprint\u001b[39m(tupla)\n",
      "\u001b[0;31mTypeError\u001b[0m: 'tuple' object does not support item assignment"
     ]
    }
   ],
   "source": [
    "tupla = (1,1,1,2,3)\n",
    "print(tupla)\n",
    "\n",
    "tupla[0] = 10\n",
    "print(tupla)\n"
   ]
  },
  {
   "cell_type": "markdown",
   "metadata": {},
   "source": [
    "## Conjuntos"
   ]
  },
  {
   "cell_type": "code",
   "execution_count": 18,
   "metadata": {},
   "outputs": [
    {
     "name": "stdout",
     "output_type": "stream",
     "text": [
      "{'uva', 'banana', 'maçã'}\n",
      "uva\n",
      "banana\n",
      "maçã\n"
     ]
    }
   ],
   "source": [
    "conjunto = {'banana', 'maçã', 'uva', 'banana'}\n",
    "print(conjunto)\n",
    "\n",
    "for i in conjunto:\n",
    "  print(i)"
   ]
  },
  {
   "cell_type": "code",
   "execution_count": 19,
   "metadata": {},
   "outputs": [
    {
     "name": "stdout",
     "output_type": "stream",
     "text": [
      "{'Uva', 'Pera', 'Maçã', 'Banana'}\n"
     ]
    }
   ],
   "source": [
    "c1 = {'Maçã', 'Banana'}\n",
    "c2 = {'Uva', 'Pera', 'Banana'}\n",
    "\n",
    "c3 = c1.union(c2)\n",
    "\n",
    "print(c3)"
   ]
  },
  {
   "cell_type": "code",
   "execution_count": 20,
   "metadata": {},
   "outputs": [
    {
     "name": "stdout",
     "output_type": "stream",
     "text": [
      "{'Uva', 'Pera', 'Maçã', 'Banana'}\n"
     ]
    }
   ],
   "source": [
    "c1 = {'Maçã', 'Banana'}\n",
    "c2 = {'Uva', 'Pera', 'Banana'}\n",
    "\n",
    "c1.update(c2)\n",
    "\n",
    "print(c1)"
   ]
  },
  {
   "cell_type": "code",
   "execution_count": 23,
   "metadata": {},
   "outputs": [
    {
     "name": "stdout",
     "output_type": "stream",
     "text": [
      "{'Uva', 'Pera'}\n"
     ]
    }
   ],
   "source": [
    "c1 = {'Maçã', 'Banana'}\n",
    "c2 = {'Uva', 'Pera', 'Banana'}\n",
    "\n",
    "c2.remove('Banana')\n",
    "print(c2)\n"
   ]
  },
  {
   "cell_type": "code",
   "execution_count": 27,
   "metadata": {},
   "outputs": [
    {
     "name": "stdout",
     "output_type": "stream",
     "text": [
      "{'cherry', 'apple'}\n"
     ]
    }
   ],
   "source": [
    "c1 = {\"apple\", \"banana\", \"cherry\"}\n",
    "c1.pop()\n",
    "print(c1)"
   ]
  },
  {
   "cell_type": "code",
   "execution_count": 29,
   "metadata": {},
   "outputs": [
    {
     "name": "stdout",
     "output_type": "stream",
     "text": [
      "{'Maçã'}\n",
      "{'Banana'}\n"
     ]
    }
   ],
   "source": [
    "c1 = {'Maçã', 'Banana'}\n",
    "c2 = {'Uva', 'Pera', 'Banana'}\n",
    "\n",
    "print(c1.difference(c2))\n",
    "print(c1.intersection(c2))"
   ]
  }
 ],
 "metadata": {
  "kernelspec": {
   "display_name": ".venv",
   "language": "python",
   "name": "python3"
  },
  "language_info": {
   "codemirror_mode": {
    "name": "ipython",
    "version": 3
   },
   "file_extension": ".py",
   "mimetype": "text/x-python",
   "name": "python",
   "nbconvert_exporter": "python",
   "pygments_lexer": "ipython3",
   "version": "3.11.5"
  }
 },
 "nbformat": 4,
 "nbformat_minor": 2
}
