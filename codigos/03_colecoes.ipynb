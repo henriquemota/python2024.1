{
 "cells": [
  {
   "cell_type": "markdown",
   "metadata": {},
   "source": [
    "# Trabalhando com coleções"
   ]
  },
  {
   "cell_type": "markdown",
   "metadata": {},
   "source": [
    "## Listas"
   ]
  },
  {
   "cell_type": "code",
   "execution_count": 8,
   "metadata": {},
   "outputs": [
    {
     "name": "stdout",
     "output_type": "stream",
     "text": [
      "[1, 1, 1, 1, 2, 3]\n",
      "[3, 2, 1, 1, 1, 1]\n",
      "[3, 2, 1, 1, 1, 10]\n",
      "['c', 'b', 'a']\n"
     ]
    }
   ],
   "source": [
    "lista = [1,1,1,1,2,3]\n",
    "print(lista)\n",
    "\n",
    "lista.sort(reverse=True)\n",
    "print(lista)\n",
    "\n",
    "lista[5] = 10\n",
    "print(lista)\n",
    "\n",
    "lista = ['a', 'c', 'b']\n",
    "lista.sort(reverse=True)\n",
    "print(lista)"
   ]
  },
  {
   "cell_type": "code",
   "execution_count": 14,
   "metadata": {},
   "outputs": [
    {
     "name": "stdout",
     "output_type": "stream",
     "text": [
      "28\n",
      "28\n",
      "4\n"
     ]
    }
   ],
   "source": [
    "notas = [4,7,8,9]\n",
    "soma = 0\n",
    "for i in notas:\n",
    "  soma += i\n",
    "\n",
    "print(soma)\n",
    "\n",
    "soma = sum(notas)\n",
    "print(soma)\n",
    "\n",
    "print(len(notas))"
   ]
  },
  {
   "cell_type": "code",
   "execution_count": 18,
   "metadata": {},
   "outputs": [
    {
     "name": "stdout",
     "output_type": "stream",
     "text": [
      "['b', 'c', 'd', 'e']\n",
      "['b', 'a', 'c', 'd', 'e']\n",
      "['a', 'a', 'c', 'd', 'e']\n"
     ]
    }
   ],
   "source": [
    "lista = ['b', 'c', 'd']\n",
    "lista.append('e')\n",
    "print(lista)\n",
    "\n",
    "lista.insert(1, 'a')\n",
    "print(lista)\n",
    "\n",
    "lista[0] = 'a'\n",
    "print(lista)"
   ]
  },
  {
   "cell_type": "code",
   "execution_count": 22,
   "metadata": {},
   "outputs": [
    {
     "name": "stdout",
     "output_type": "stream",
     "text": [
      "banana\n",
      "pera\n",
      "uva\n"
     ]
    }
   ],
   "source": [
    "lista = ['banana', 'uva', 'pera']\n",
    "print(lista[0])\n",
    "print(lista[-1])\n",
    "print(lista[-2])"
   ]
  },
  {
   "cell_type": "code",
   "execution_count": 24,
   "metadata": {},
   "outputs": [
    {
     "name": "stdout",
     "output_type": "stream",
     "text": [
      "['laranja', 'azul', 'verde', 'preto']\n",
      "['azul', 'verde', 'preto']\n"
     ]
    }
   ],
   "source": [
    "lista = [\"laranja\", \"azul\", \"verde\", \"preto\"]\n",
    "print(lista)\n",
    "print(lista[1:4])\n",
    "\n"
   ]
  },
  {
   "cell_type": "code",
   "execution_count": 28,
   "metadata": {},
   "outputs": [
    {
     "name": "stdout",
     "output_type": "stream",
     "text": [
      "['educador.estacio.br', 'turmas', 'estacio_12379783', 'temas', '3']\n",
      "['educador.estacio.br', 'turmas', 'estacio_12379783', 'temas']\n",
      "educador.estacio.br/turmas/estacio_12379783/temas/novo\n"
     ]
    }
   ],
   "source": [
    "url = \"educador.estacio.br/turmas/estacio_12379783/temas/3\"\n",
    "lista = url.split(\"/\")\n",
    "print(lista)\n",
    "\n",
    "lista = lista[0:-1]\n",
    "print(lista)\n",
    "\n",
    "lista.append(\"novo\")\n",
    "\n",
    "print(\"/\".join(lista))"
   ]
  },
  {
   "cell_type": "code",
   "execution_count": 29,
   "metadata": {},
   "outputs": [
    {
     "name": "stdout",
     "output_type": "stream",
     "text": [
      "['azul', 'verde']\n"
     ]
    }
   ],
   "source": [
    "lista = [\"laranja\", \"azul\", \"verde\", \"preto\"] \n",
    "print(lista[-3:-1])"
   ]
  },
  {
   "cell_type": "code",
   "execution_count": 38,
   "metadata": {},
   "outputs": [
    {
     "name": "stdout",
     "output_type": "stream",
     "text": [
      "B: [9, 4]\n",
      "A: [3, 4, 1]\n"
     ]
    }
   ],
   "source": [
    "a = [3, 4, 1] \n",
    "b = a[0:-1]\n",
    "b[0] = 9\n",
    "print(\"B: %s\" % b) \n",
    "print(\"A: %s\" % a)"
   ]
  },
  {
   "cell_type": "code",
   "execution_count": 39,
   "metadata": {},
   "outputs": [
    {
     "name": "stdout",
     "output_type": "stream",
     "text": [
      "[3, 5, 7, 9, 11, 13]\n"
     ]
    }
   ],
   "source": [
    "a = [3, 5, 7]\n",
    "b = [9, 11, 13] \n",
    "c = a + b\n",
    "\n",
    "print(c)"
   ]
  },
  {
   "cell_type": "code",
   "execution_count": 41,
   "metadata": {},
   "outputs": [
    {
     "name": "stdout",
     "output_type": "stream",
     "text": [
      "[1, 2, 4, 5]\n"
     ]
    }
   ],
   "source": [
    "a = [1, 2, 3, 4, 5] \n",
    "del a[2:3]\n",
    "print(a)\n",
    "\n"
   ]
  },
  {
   "cell_type": "code",
   "execution_count": 42,
   "metadata": {},
   "outputs": [
    {
     "name": "stdout",
     "output_type": "stream",
     "text": [
      "[1, 2, 3, 4, 5]\n",
      "[1, 2, 3, 4]\n"
     ]
    }
   ],
   "source": [
    "a = [1, 2, 3, 4, 5] \n",
    "print(a)\n",
    "a.pop()\n",
    "print(a)"
   ]
  },
  {
   "cell_type": "code",
   "execution_count": 45,
   "metadata": {},
   "outputs": [
    {
     "name": "stdout",
     "output_type": "stream",
     "text": [
      "Sim, 'triangulo' esta presente na lista\n"
     ]
    }
   ],
   "source": [
    "lista = [\"triangulo\", \"quadrado\", \"circulo\", \"retangulo\"] \n",
    "if \"triangulo\" in lista:\n",
    "  print(\"Sim, 'triangulo' esta presente na lista\")"
   ]
  },
  {
   "cell_type": "code",
   "execution_count": 49,
   "metadata": {},
   "outputs": [
    {
     "name": "stdout",
     "output_type": "stream",
     "text": [
      "<class 'tuple'> ('1', '2', '3', '1')\n",
      "<class 'list'> ['1', '2', '3', '1']\n"
     ]
    }
   ],
   "source": [
    "tupla = (\"1\", \"2\", \"3\", \"1\")\n",
    "print(type(tupla), tupla)\n",
    "\n",
    "lista = list(tupla)\n",
    "print(type(lista), lista)"
   ]
  },
  {
   "cell_type": "markdown",
   "metadata": {},
   "source": [
    "## Dicionários"
   ]
  },
  {
   "cell_type": "code",
   "execution_count": 54,
   "metadata": {},
   "outputs": [
    {
     "name": "stdout",
     "output_type": "stream",
     "text": [
      "{'joao': 8, 'maria': 9.5, 'pedro': 5.6, 'andre': 7.8}\n",
      "{'joao': 8, 'maria': 9.5, 'pedro': 5.6, 'andre': 7.8, 'ana': 9.2}\n",
      "{'joao': 8, 'maria': 9.5, 'pedro': 5.6, 'andre': 7.8, 'ana': 9.2}\n",
      "{'joao': 8, 'maria': 9.5, 'pedro': 5.6, 'andre': 7.8, 'ana': 9.2, 'ana2': [8, 9.2]}\n"
     ]
    }
   ],
   "source": [
    "dicionario = {\"joao\": 8,  \"maria\": 9.5, \"pedro\": 5.6, \"andre\": 7.8}\n",
    "print(dicionario)\n",
    "\n",
    "dicionario[\"ana\"] = 9.2\n",
    "print(dicionario)\n",
    "\n",
    "dicionario[\"ana\"] = 9.2\n",
    "print(dicionario)\n",
    "\n",
    "dicionario[\"ana2\"] = [8,9.2]\n",
    "print(dicionario)\n"
   ]
  },
  {
   "cell_type": "code",
   "execution_count": 61,
   "metadata": {},
   "outputs": [
    {
     "name": "stdout",
     "output_type": "stream",
     "text": [
      "['joao', 'maria', 'pedro', 'andre', 'ana', 'ana2']\n",
      "[8, 9.5, 5.6, 7.8, 9.2, [8, 9.2]]\n",
      "[('joao', 8), ('maria', 9.5), ('pedro', 5.6), ('andre', 7.8), ('ana', 9.2), ('ana2', [8, 9.2])]\n"
     ]
    }
   ],
   "source": [
    "print(list(dicionario.keys()))\n",
    "\n",
    "print(list(dicionario.values()))\n",
    "\n",
    "print(list(dicionario.items()))"
   ]
  },
  {
   "cell_type": "code",
   "execution_count": 62,
   "metadata": {},
   "outputs": [
    {
     "name": "stdout",
     "output_type": "stream",
     "text": [
      "joao 8\n",
      "maria 9.5\n",
      "pedro 5.6\n",
      "andre 7.8\n",
      "ana 9.2\n",
      "ana2 [8, 9.2]\n"
     ]
    }
   ],
   "source": [
    "for key, value in dicionario.items():\n",
    "  print(key, value)"
   ]
  },
  {
   "cell_type": "code",
   "execution_count": 72,
   "metadata": {},
   "outputs": [
    {
     "name": "stdout",
     "output_type": "stream",
     "text": [
      "{'joao': [8, 6, 5.6], 'maria': [9.5, 4, 6.8], 'pedro': [5.6, 9, 8.4], 'andre': [7.8, 9, 10]}\n",
      "{'joao': 6.5, 'maria': 6.8, 'pedro': 7.7, 'andre': 8.9}\n"
     ]
    }
   ],
   "source": [
    "notas = {\"joao\": [8,6,5.6],  \"maria\": [9.5,4,6.8], \"pedro\": [5.6,9,8.4], \"andre\": [7.8,9,10]}\n",
    "print(notas)\n",
    "medias = {}\n",
    "for key, value in notas.items():\n",
    "  media = round(sum(value) / len(value),1)\n",
    "  medias[key] = media\n",
    "\n",
    "print(medias)"
   ]
  },
  {
   "cell_type": "code",
   "execution_count": 74,
   "metadata": {},
   "outputs": [
    {
     "name": "stdout",
     "output_type": "stream",
     "text": [
      "6.5\n",
      "6.5\n"
     ]
    }
   ],
   "source": [
    "print(medias['joao'])\n",
    "print(medias.get('joao'))"
   ]
  },
  {
   "cell_type": "code",
   "execution_count": 76,
   "metadata": {},
   "outputs": [
    {
     "name": "stdout",
     "output_type": "stream",
     "text": [
      "{'joao': [8, 6, 5.6], 'maria': [9.5, 4, 6.8], 'pedro': [5.6, 9, 8.4], 'andre': [7.8, 9, 10]}\n",
      "{'joao': [8, 6, 5.6], 'maria': [9.5, 4, 6.8], 'pedro': [5.6, 9, 8.4], 'andre': [7.8, 9, 10]}\n"
     ]
    }
   ],
   "source": [
    "dados1 = {\"joao\": [8,6,5.6],  \"maria\": [9.5,4,6.8], \"pedro\": [5.6,9,8.4], \"andre\": [7.8,9,10]}\n",
    "dados2 = dict(joao = [8,6,5.6], maria =  [9.5,4,6.8], pedro = [5.6,9,8.4], andre =  [7.8,9,10] )\n",
    "\n",
    "print(dados1)\n",
    "print(dados2)\n"
   ]
  },
  {
   "cell_type": "markdown",
   "metadata": {},
   "source": [
    "## Tuplas"
   ]
  },
  {
   "cell_type": "code",
   "execution_count": 82,
   "metadata": {},
   "outputs": [
    {
     "name": "stdout",
     "output_type": "stream",
     "text": [
      "(1, 1, True, 'String', [1, 2, 3], 1, 2, 3)\n"
     ]
    }
   ],
   "source": [
    "tupla = (1,1,True, 'String', [1,2,3], 1,2,3)\n",
    "print(tupla)\n"
   ]
  },
  {
   "cell_type": "code",
   "execution_count": 83,
   "metadata": {},
   "outputs": [
    {
     "name": "stdout",
     "output_type": "stream",
     "text": [
      "(1, 1, True, 'String')\n"
     ]
    }
   ],
   "source": [
    "tupla = 1, 1, True, \"String\"\n",
    "print(tupla)"
   ]
  },
  {
   "cell_type": "markdown",
   "metadata": {},
   "source": [
    "## Conjuntos"
   ]
  },
  {
   "cell_type": "code",
   "execution_count": 84,
   "metadata": {},
   "outputs": [
    {
     "name": "stdout",
     "output_type": "stream",
     "text": [
      "{'banana', 'uva', 'maçã'}\n",
      "banana\n",
      "uva\n",
      "maçã\n"
     ]
    }
   ],
   "source": [
    "conjunto = {'banana', 'maçã', 'uva', 'banana'}\n",
    "print(conjunto)\n",
    "\n",
    "for i in conjunto:\n",
    "  print(i)"
   ]
  },
  {
   "cell_type": "code",
   "execution_count": 85,
   "metadata": {},
   "outputs": [
    {
     "name": "stdout",
     "output_type": "stream",
     "text": [
      "{'Pera', 'Banana', 'Uva', 'Maçã'}\n"
     ]
    }
   ],
   "source": [
    "c1 = {'Maçã', 'Banana'}\n",
    "c2 = {'Uva', 'Pera', 'Banana'}\n",
    "\n",
    "c3 = c1.union(c2)\n",
    "\n",
    "print(c3)"
   ]
  },
  {
   "cell_type": "code",
   "execution_count": 86,
   "metadata": {},
   "outputs": [
    {
     "name": "stdout",
     "output_type": "stream",
     "text": [
      "{'Pera', 'Banana', 'Uva', 'Maçã'}\n"
     ]
    }
   ],
   "source": [
    "c1 = {'Maçã', 'Banana'}\n",
    "c2 = {'Uva', 'Pera', 'Banana'}\n",
    "\n",
    "c1.update(c2)\n",
    "\n",
    "print(c1)"
   ]
  },
  {
   "cell_type": "code",
   "execution_count": 87,
   "metadata": {},
   "outputs": [
    {
     "name": "stdout",
     "output_type": "stream",
     "text": [
      "{'Uva', 'Pera'}\n"
     ]
    }
   ],
   "source": [
    "c1 = {'Maçã', 'Banana'}\n",
    "c2 = {'Uva', 'Pera', 'Banana'}\n",
    "\n",
    "c2.remove('Banana')\n",
    "print(c2)\n"
   ]
  },
  {
   "cell_type": "code",
   "execution_count": 90,
   "metadata": {},
   "outputs": [
    {
     "name": "stdout",
     "output_type": "stream",
     "text": [
      "{'b', 'c', 'a'}\n",
      "{'c', 'a'}\n"
     ]
    }
   ],
   "source": [
    "c1 = {\"apple\", \"banana\", \"cherry\"}\n",
    "c1 = {\"a\", \"b\", \"c\"}\n",
    "print(c1)\n",
    "c1.pop()\n",
    "print(c1)"
   ]
  },
  {
   "cell_type": "code",
   "execution_count": 92,
   "metadata": {},
   "outputs": [
    {
     "name": "stdout",
     "output_type": "stream",
     "text": [
      "{'Uva', 'Pera'}\n",
      "{'Banana'}\n"
     ]
    }
   ],
   "source": [
    "c1 = {'Maçã', 'Banana'}\n",
    "c2 = {'Uva', 'Pera', 'Banana'}\n",
    "\n",
    "print(c2.difference(c1))\n",
    "print(c1.intersection(c2))"
   ]
  }
 ],
 "metadata": {
  "kernelspec": {
   "display_name": ".venv",
   "language": "python",
   "name": "python3"
  },
  "language_info": {
   "codemirror_mode": {
    "name": "ipython",
    "version": 3
   },
   "file_extension": ".py",
   "mimetype": "text/x-python",
   "name": "python",
   "nbconvert_exporter": "python",
   "pygments_lexer": "ipython3",
   "version": "3.11.5"
  }
 },
 "nbformat": 4,
 "nbformat_minor": 2
}
