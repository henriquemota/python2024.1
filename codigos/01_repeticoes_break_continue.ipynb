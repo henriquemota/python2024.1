{
 "cells": [
  {
   "cell_type": "markdown",
   "metadata": {},
   "source": [
    "# fazendo uso do break\n"
   ]
  },
  {
   "cell_type": "code",
   "execution_count": 5,
   "metadata": {},
   "outputs": [
    {
     "name": "stdout",
     "output_type": "stream",
     "text": [
      "o valor de i e 0\n",
      "o valor de i e 1\n",
      "o valor de i e 2\n",
      "o valor de i e 3\n",
      "o valor de i e 4\n"
     ]
    }
   ],
   "source": [
    "i = 0\n",
    "while 1 < 10:\n",
    "  if i == 5: break # obedece o teste logico e sai\n",
    "  print(f'o valor de i e {i}')\n",
    "  i += 1\n"
   ]
  },
  {
   "cell_type": "markdown",
   "metadata": {},
   "source": [
    "# fazendo uso do continue"
   ]
  },
  {
   "cell_type": "code",
   "execution_count": 6,
   "metadata": {},
   "outputs": [
    {
     "name": "stdout",
     "output_type": "stream",
     "text": [
      "o valor de i e 1\n",
      "o valor de i e 3\n",
      "o valor de i e 5\n",
      "o valor de i e 7\n",
      "o valor de i e 9\n"
     ]
    }
   ],
   "source": [
    "i = 0\n",
    "while i < 10:\n",
    "  i += 1\n",
    "  if i % 2 == 0: continue # obedece o teste logico e sai\n",
    "  print(f'o valor de i e {i}')\n"
   ]
  }
 ],
 "metadata": {
  "kernelspec": {
   "display_name": ".venv",
   "language": "python",
   "name": "python3"
  },
  "language_info": {
   "codemirror_mode": {
    "name": "ipython",
    "version": 3
   },
   "file_extension": ".py",
   "mimetype": "text/x-python",
   "name": "python",
   "nbconvert_exporter": "python",
   "pygments_lexer": "ipython3",
   "version": "3.11.5"
  }
 },
 "nbformat": 4,
 "nbformat_minor": 2
}
