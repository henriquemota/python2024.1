{
 "cells": [
  {
   "cell_type": "code",
   "execution_count": 11,
   "metadata": {},
   "outputs": [],
   "source": [
    "from os import path"
   ]
  },
  {
   "cell_type": "code",
   "execution_count": 10,
   "metadata": {},
   "outputs": [
    {
     "name": "stdout",
     "output_type": "stream",
     "text": [
      "sempre vou estar aqui\n"
     ]
    }
   ],
   "source": [
    "try:\n",
    "  with open(path.join('arquivos','alunos.csv')) as f:\n",
    "    data = f.readlines()\n",
    "except FileNotFoundError as e:\n",
    "  print(\"arquivo nao localizado\")\n",
    "except Exception as e:\n",
    "  print(\"deu ruim, nao faco a menor ideia\")\n",
    "finally:\n",
    "  print(\"sempre vou estar aqui\")"
   ]
  },
  {
   "cell_type": "code",
   "execution_count": 17,
   "metadata": {},
   "outputs": [
    {
     "name": "stdout",
     "output_type": "stream",
     "text": [
      "deu ruim, nao faco a menor ideia not writable <class 'io.UnsupportedOperation'>\n",
      "sempre vou estar aqui\n"
     ]
    }
   ],
   "source": [
    "try:\n",
    "  with open(path.join('arquivos','alunos.csv')) as f:\n",
    "    f.write(\"apenas um teste de erro\")\n",
    "except FileNotFoundError as e:\n",
    "  print(\"arquivo nao localizado\")\n",
    "except PermissionError as e:\n",
    "  print(\"não possui permissão\")\n",
    "except FileExistsError as e:\n",
    "  print(\"não possui permissão\")\n",
    "except Exception as e:\n",
    "  print(\"deu ruim, nao faco a menor ideia\", str(e))\n",
    "finally:\n",
    "  print(\"sempre vou estar aqui\")"
   ]
  }
 ],
 "metadata": {
  "kernelspec": {
   "display_name": ".venv",
   "language": "python",
   "name": "python3"
  },
  "language_info": {
   "codemirror_mode": {
    "name": "ipython",
    "version": 3
   },
   "file_extension": ".py",
   "mimetype": "text/x-python",
   "name": "python",
   "nbconvert_exporter": "python",
   "pygments_lexer": "ipython3",
   "version": "3.11.9"
  }
 },
 "nbformat": 4,
 "nbformat_minor": 2
}
