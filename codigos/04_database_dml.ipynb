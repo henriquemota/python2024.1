{
 "cells": [
  {
   "cell_type": "code",
   "execution_count": 1,
   "metadata": {},
   "outputs": [],
   "source": [
    "import sqlite3 as conn\n",
    "from os import path"
   ]
  },
  {
   "cell_type": "markdown",
   "metadata": {},
   "source": [
    "### insercao em linha unica"
   ]
  },
  {
   "cell_type": "code",
   "execution_count": 2,
   "metadata": {},
   "outputs": [],
   "source": [
    "with conn.connect(path.join('db/contatos.sqlite')) as cx:\n",
    "  cr = cx.cursor()\n",
    "  query = \"\"\"\n",
    "    insert into contatos (nome, telefone, email, codigo_cidade) values \n",
    "    (?,?,?,?)\n",
    "  \"\"\"\n",
    "\n",
    "  cr.execute(query, ('Henrique', '1111', 'contato@email.com', 59))"
   ]
  },
  {
   "cell_type": "markdown",
   "metadata": {},
   "source": [
    "### insercao de multimplas linhas"
   ]
  },
  {
   "cell_type": "code",
   "execution_count": 10,
   "metadata": {},
   "outputs": [],
   "source": [
    "def registrar_contatos(dados = []):\n",
    "  with conn.connect(path.join('db/contatos.sqlite')) as cx:\n",
    "    cr = cx.cursor()\n",
    "    query = \"\"\"\n",
    "      insert into contatos (nome, telefone, email, codigo_cidade) values \n",
    "      (?,?,?,?)\n",
    "    \"\"\"\n",
    "\n",
    "    cr.executemany(query, dados)"
   ]
  },
  {
   "cell_type": "code",
   "execution_count": 36,
   "metadata": {},
   "outputs": [],
   "source": [
    "contatos = [\n",
    "('Joao', '1112', 'contato@email.com', 59),\n",
    "('Aaron', '1113', 'contato@email.com', 59),\n",
    "('Andre', '1114', 'contato@email.com', 58),\n",
    "]\n",
    "\n",
    "registrar_contatos(contatos)"
   ]
  },
  {
   "cell_type": "code",
   "execution_count": 33,
   "metadata": {},
   "outputs": [],
   "source": [
    "with conn.connect(path.join('db/contatos.sqlite')) as cx:\n",
    "  cr = cx.cursor()\n",
    "  query = \"\"\"\n",
    "    update contatos set nome = ? where codigo = ?;\n",
    "  \"\"\"\n",
    "\n",
    "  cr.execute(query, ('joao pedro', 11 ))"
   ]
  },
  {
   "cell_type": "code",
   "execution_count": 34,
   "metadata": {},
   "outputs": [],
   "source": [
    "with conn.connect(path.join('db/contatos.sqlite')) as cx:\n",
    "  cr = cx.cursor()\n",
    "  query = \"\"\"\n",
    "    delete from contatos where codigo = ?;\n",
    "  \"\"\"\n",
    "\n",
    "  cr.execute(query, (12,))"
   ]
  },
  {
   "cell_type": "code",
   "execution_count": 35,
   "metadata": {},
   "outputs": [],
   "source": [
    "with conn.connect(path.join('db/contatos.sqlite')) as cx:\n",
    "  cr = cx.cursor()\n",
    "  query = \"\"\"\n",
    "    delete from contatos where codigo = ?;\n",
    "  \"\"\"\n",
    "\n",
    "  cr.executemany(query, [(7,), (11,)])"
   ]
  }
 ],
 "metadata": {
  "kernelspec": {
   "display_name": ".venv",
   "language": "python",
   "name": "python3"
  },
  "language_info": {
   "codemirror_mode": {
    "name": "ipython",
    "version": 3
   },
   "file_extension": ".py",
   "mimetype": "text/x-python",
   "name": "python",
   "nbconvert_exporter": "python",
   "pygments_lexer": "ipython3",
   "version": "3.11.9"
  }
 },
 "nbformat": 4,
 "nbformat_minor": 2
}
