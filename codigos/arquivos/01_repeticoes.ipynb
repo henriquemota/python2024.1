{
 "cells": [
  {
   "cell_type": "markdown",
   "metadata": {},
   "source": [
    "# Calcular a média de um aluno"
   ]
  },
  {
   "cell_type": "code",
   "execution_count": 1,
   "metadata": {},
   "outputs": [],
   "source": [
    "n1 = float(input('informe a nota avI'))\n",
    "n2 = float(input('informe a nota avII'))"
   ]
  },
  {
   "cell_type": "code",
   "execution_count": 2,
   "metadata": {},
   "outputs": [],
   "source": [
    "def calcularMedia(n1, n2):\n",
    "  return (n1 + n2) / 2"
   ]
  },
  {
   "cell_type": "code",
   "execution_count": 5,
   "metadata": {},
   "outputs": [],
   "source": [
    "def imprimirResultado(media):\n",
    "  if (media < 6): return f'Reprovado com media {media}'\n",
    "  elif (media < 8): return f'Passou raspando com media {media}'\n",
    "  else: return f'Muito bem, media {media}'"
   ]
  },
  {
   "cell_type": "code",
   "execution_count": 6,
   "metadata": {},
   "outputs": [
    {
     "data": {
      "text/plain": [
       "'Passou raspando com media 7.45'"
      ]
     },
     "execution_count": 6,
     "metadata": {},
     "output_type": "execute_result"
    }
   ],
   "source": [
    "media = calcularMedia(n1, n2)\n",
    "imprimirResultado(media)"
   ]
  },
  {
   "cell_type": "code",
   "execution_count": 15,
   "metadata": {},
   "outputs": [
    {
     "name": "stdout",
     "output_type": "stream",
     "text": [
      "3\n",
      "9\n",
      "81\n",
      "6561\n",
      "43046721\n",
      "1853020188851841\n",
      "3433683820292512484657849089281\n",
      "11790184577738583171520872861412518665678211592275841109096961\n",
      "139008452377144732764939786789661303114218850808529137991604824430036072629766435941001769154109609521811665540548899435521\n"
     ]
    }
   ],
   "source": [
    "i = 1\n",
    "x = 3\n",
    "while i < 10:\n",
    "  print(x)\n",
    "  x**=2\n",
    "  i+=1\n"
   ]
  },
  {
   "cell_type": "markdown",
   "metadata": {},
   "source": [
    "# Calcular a média para N alunos"
   ]
  },
  {
   "cell_type": "code",
   "execution_count": 2,
   "metadata": {},
   "outputs": [
    {
     "ename": "NameError",
     "evalue": "name 'i' is not defined",
     "output_type": "error",
     "traceback": [
      "\u001b[0;31m---------------------------------------------------------------------------\u001b[0m",
      "\u001b[0;31mNameError\u001b[0m                                 Traceback (most recent call last)",
      "Cell \u001b[0;32mIn[2], line 11\u001b[0m\n\u001b[1;32m      8\u001b[0m media \u001b[38;5;241m=\u001b[39m \u001b[38;5;28mround\u001b[39m((n1 \u001b[38;5;241m+\u001b[39m n2) \u001b[38;5;241m/\u001b[39m \u001b[38;5;241m2\u001b[39m, \u001b[38;5;241m1\u001b[39m)\n\u001b[1;32m     10\u001b[0m \u001b[38;5;28;01mif\u001b[39;00m media \u001b[38;5;241m>\u001b[39m\u001b[38;5;241m=\u001b[39m \u001b[38;5;241m6\u001b[39m:\n\u001b[0;32m---> 11\u001b[0m   \u001b[38;5;28mprint\u001b[39m(\u001b[38;5;124mf\u001b[39m\u001b[38;5;124m'\u001b[39m\u001b[38;5;124maluno \u001b[39m\u001b[38;5;132;01m{\u001b[39;00m\u001b[43mi\u001b[49m\u001b[38;5;132;01m}\u001b[39;00m\u001b[38;5;124m foi aprovado com média \u001b[39m\u001b[38;5;132;01m{\u001b[39;00mmedia\u001b[38;5;132;01m}\u001b[39;00m\u001b[38;5;124m'\u001b[39m)\n\u001b[1;32m     12\u001b[0m \u001b[38;5;28;01melse\u001b[39;00m: \n\u001b[1;32m     13\u001b[0m   \u001b[38;5;28mprint\u001b[39m(\u001b[38;5;124mf\u001b[39m\u001b[38;5;124m'\u001b[39m\u001b[38;5;124mlamento, aluno \u001b[39m\u001b[38;5;132;01m{\u001b[39;00mi\u001b[38;5;132;01m}\u001b[39;00m\u001b[38;5;124m foi reprovado com média \u001b[39m\u001b[38;5;132;01m{\u001b[39;00mmedia\u001b[38;5;132;01m}\u001b[39;00m\u001b[38;5;124m'\u001b[39m)\n",
      "\u001b[0;31mNameError\u001b[0m: name 'i' is not defined"
     ]
    }
   ],
   "source": [
    "n = int(input(\"informe o numero de alunos\"))\n",
    "\n",
    "controle = 1\n",
    "while controle <= n:\n",
    "  n1 = float(input('informe a primeira nota'))\n",
    "  n2 = float(input('informe a segunda nota'))\n",
    "\n",
    "  media = round((n1 + n2) / 2, 1)\n",
    "\n",
    "  if media >= 6:\n",
    "    print(f'aluno {i} foi aprovado com média {media}')\n",
    "  else: \n",
    "    print(f'lamento, aluno {i} foi reprovado com média {media}')\n",
    "\n",
    "  controle += 1"
   ]
  }
 ],
 "metadata": {
  "kernelspec": {
   "display_name": ".venv",
   "language": "python",
   "name": "python3"
  },
  "language_info": {
   "codemirror_mode": {
    "name": "ipython",
    "version": 3
   },
   "file_extension": ".py",
   "mimetype": "text/x-python",
   "name": "python",
   "nbconvert_exporter": "python",
   "pygments_lexer": "ipython3",
   "version": "3.11.5"
  }
 },
 "nbformat": 4,
 "nbformat_minor": 2
}
