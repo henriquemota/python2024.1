{
 "cells": [
  {
   "cell_type": "code",
   "execution_count": 1,
   "metadata": {},
   "outputs": [],
   "source": [
    "import sqlite3 as conn"
   ]
  },
  {
   "cell_type": "code",
   "execution_count": 5,
   "metadata": {},
   "outputs": [],
   "source": [
    "def inserir (dados = ()):\n",
    "  with conn.connect(\"db/contatos.sqlite\") as cx:\n",
    "    query = \"\"\"\n",
    "      insert into contatos (nome, telefone, email, codigo_cidade, nascimento) values \n",
    "      (?, ?, ?, ?, ?);\n",
    "    \"\"\"\n",
    "    cur = cx.cursor()\n",
    "    cur.execute(query, dados)\n",
    "\n",
    "def inserir_varios (dados = []):\n",
    "  with conn.connect(\"db/contatos.sqlite\") as cx:\n",
    "    query = \"\"\"\n",
    "      insert into contatos (nome, telefone, email, codigo_cidade, nascimento) values \n",
    "      (?, ?, ?, ?, ?);\n",
    "    \"\"\"\n",
    "    cur = cx.cursor()\n",
    "    cur.executemany(query, dados)"
   ]
  },
  {
   "cell_type": "code",
   "execution_count": 6,
   "metadata": {},
   "outputs": [],
   "source": [
    "inserir(('joao', '22', 'joao@email.com', 59, '1986-01-23'))"
   ]
  },
  {
   "cell_type": "code",
   "execution_count": 7,
   "metadata": {},
   "outputs": [],
   "source": [
    "inserir_varios([\n",
    "  ('maria', '11', 'maria@email.com', 59, '1994-04-23'),\n",
    "  ('pedro', '33', 'pedro@email.com', 59, '1993-08-15'),\n",
    "])"
   ]
  }
 ],
 "metadata": {
  "kernelspec": {
   "display_name": ".venv",
   "language": "python",
   "name": "python3"
  },
  "language_info": {
   "codemirror_mode": {
    "name": "ipython",
    "version": 3
   },
   "file_extension": ".py",
   "mimetype": "text/x-python",
   "name": "python",
   "nbconvert_exporter": "python",
   "pygments_lexer": "ipython3",
   "version": "3.11.9"
  }
 },
 "nbformat": 4,
 "nbformat_minor": 2
}
