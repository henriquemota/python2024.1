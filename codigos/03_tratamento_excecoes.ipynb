{
 "cells": [
  {
   "cell_type": "markdown",
   "metadata": {},
   "source": [
    "### Tratamento de excecoes\n"
   ]
  },
  {
   "cell_type": "code",
   "execution_count": 1,
   "metadata": {},
   "outputs": [],
   "source": [
    "import os"
   ]
  },
  {
   "cell_type": "code",
   "execution_count": 8,
   "metadata": {},
   "outputs": [
    {
     "name": "stdout",
     "output_type": "stream",
     "text": [
      "Passei de forma nornal.\n",
      "Sempre passei por aqui.\n"
     ]
    }
   ],
   "source": [
    "try:\n",
    "  open(os.path.join(os.getcwd(), \"python\", \"aula\", \"excecoes\"))\n",
    "except FileNotFoundError as e:\n",
    "  print(\"Arquivo ou diretório não encontrado.\")\n",
    "except Exception as e:\n",
    "  print(\"Erros ocorreram.\")\n",
    "finally: \n",
    "  print(\"Sempre passei por aqui.\")"
   ]
  },
  {
   "cell_type": "code",
   "execution_count": 26,
   "metadata": {},
   "outputs": [
    {
     "name": "stdout",
     "output_type": "stream",
     "text": [
      "Diretório ou arquivo não localizado.\n",
      "Executei ao final\n"
     ]
    }
   ],
   "source": [
    "try:\n",
    "  # os.mkdir(\"arquivos\")\n",
    "  open( \"dados.txt\")\n",
    "except FileExistsError as e:\n",
    "  print(\"Diretório ou arquivo já existente.\")\n",
    "except FileNotFoundError as e:\n",
    "  print(\"Diretório ou arquivo não localizado.\")\n",
    "except Exception as e:\n",
    "  print(str(e))\n",
    "finally:\n",
    "  print(\"Executei ao final\")"
   ]
  },
  {
   "cell_type": "markdown",
   "metadata": {},
   "source": [
    "### Listando os dados de um diretorio"
   ]
  },
  {
   "cell_type": "code",
   "execution_count": 37,
   "metadata": {},
   "outputs": [
    {
     "name": "stdout",
     "output_type": "stream",
     "text": [
      "os.stat_result(st_mode=33188, st_ino=106308253, st_dev=16777229, st_nlink=1, st_uid=501, st_gid=20, st_size=1363, st_atime=1710931679, st_mtime=1710931679, st_ctime=1710931679)\n",
      "os.stat_result(st_mode=33188, st_ino=104151127, st_dev=16777229, st_nlink=1, st_uid=501, st_gid=20, st_size=4935, st_atime=1710282294, st_mtime=1710282294, st_ctime=1710282294)\n",
      "os.stat_result(st_mode=33188, st_ino=106887932, st_dev=16777229, st_nlink=1, st_uid=501, st_gid=20, st_size=4860, st_atime=1711495338, st_mtime=1711495338, st_ctime=1711495338)\n",
      "os.stat_result(st_mode=33188, st_ino=108605615, st_dev=16777229, st_nlink=1, st_uid=501, st_gid=20, st_size=3007, st_atime=1712749415, st_mtime=1712749415, st_ctime=1712749415)\n",
      "os.stat_result(st_mode=33188, st_ino=106886552, st_dev=16777229, st_nlink=1, st_uid=501, st_gid=20, st_size=3085, st_atime=1711494270, st_mtime=1711494270, st_ctime=1711494270)\n",
      "os.stat_result(st_mode=33188, st_ino=106889926, st_dev=16777229, st_nlink=1, st_uid=501, st_gid=20, st_size=2591, st_atime=1711496511, st_mtime=1711496511, st_ctime=1711496511)\n",
      "os.stat_result(st_mode=33188, st_ino=105195269, st_dev=16777229, st_nlink=1, st_uid=501, st_gid=20, st_size=3383, st_atime=1710284168, st_mtime=1710284168, st_ctime=1710284175)\n",
      "os.stat_result(st_mode=33188, st_ino=105206970, st_dev=16777229, st_nlink=1, st_uid=501, st_gid=20, st_size=1659, st_atime=1710285462, st_mtime=1710285462, st_ctime=1710285462)\n",
      "os.stat_result(st_mode=33188, st_ino=106880442, st_dev=16777229, st_nlink=1, st_uid=501, st_gid=20, st_size=3456, st_atime=1711494270, st_mtime=1711494270, st_ctime=1711494270)\n",
      "os.stat_result(st_mode=16877, st_ino=105171291, st_dev=16777229, st_nlink=6, st_uid=501, st_gid=20, st_size=192, st_atime=1712748602, st_mtime=1712748574, st_ctime=1712748574)\n",
      "os.stat_result(st_mode=33188, st_ino=106267641, st_dev=16777229, st_nlink=1, st_uid=501, st_gid=20, st_size=13397, st_atime=1712705212, st_mtime=1712705212, st_ctime=1712705212)\n",
      "os.stat_result(st_mode=33188, st_ino=105207465, st_dev=16777229, st_nlink=1, st_uid=501, st_gid=20, st_size=3859, st_atime=1710326435, st_mtime=1710286859, st_ctime=1710286859)\n",
      "os.stat_result(st_mode=16877, st_ino=107707612, st_dev=16777229, st_nlink=4, st_uid=501, st_gid=20, st_size=128, st_atime=1712097878, st_mtime=1712097877, st_ctime=1712097877)\n",
      "os.stat_result(st_mode=33188, st_ino=105222204, st_dev=16777229, st_nlink=1, st_uid=501, st_gid=20, st_size=9614, st_atime=1710332609, st_mtime=1710332609, st_ctime=1710332609)\n",
      "os.stat_result(st_mode=33188, st_ino=105191557, st_dev=16777229, st_nlink=1, st_uid=501, st_gid=20, st_size=1942, st_atime=1710281558, st_mtime=1710281556, st_ctime=1710281556)\n",
      "[]\n"
     ]
    }
   ],
   "source": [
    "dados = os.scandir()\n",
    "arquivos = []\n",
    "for item in dados:\n",
    "  print(item.stat())\n",
    "  # if item.is_file(): \n",
    "  #   bla = item.name.split(\".\")\n",
    "  #   if bla[1] == 'txt': arquivos.append(item.name)\n",
    "  # print(item.name, item.path, item.is_dir(), item.is_file(), item.is_symlink(), item.stat())\n",
    "\n",
    "print(arquivos)"
   ]
  }
 ],
 "metadata": {
  "kernelspec": {
   "display_name": ".venv",
   "language": "python",
   "name": "python3"
  },
  "language_info": {
   "codemirror_mode": {
    "name": "ipython",
    "version": 3
   },
   "file_extension": ".py",
   "mimetype": "text/x-python",
   "name": "python",
   "nbconvert_exporter": "python",
   "pygments_lexer": "ipython3",
   "version": "3.11.9"
  }
 },
 "nbformat": 4,
 "nbformat_minor": 2
}
