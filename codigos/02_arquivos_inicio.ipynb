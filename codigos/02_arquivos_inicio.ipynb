{
 "cells": [
  {
   "cell_type": "markdown",
   "metadata": {},
   "source": [
    "# Manipulando arquivos"
   ]
  },
  {
   "cell_type": "code",
   "execution_count": 8,
   "metadata": {},
   "outputs": [],
   "source": [
    "from os import path, getcwd, listdir\n",
    "\n",
    "basefolder = getcwd()\n",
    "folder = path.join(basefolder, 'arquivos')"
   ]
  },
  {
   "cell_type": "code",
   "execution_count": 13,
   "metadata": {},
   "outputs": [
    {
     "name": "stdout",
     "output_type": "stream",
     "text": [
      "/Users/henriquemota/Workspace/estacio/rad/codigos/arquivos/dados.txt\n"
     ]
    }
   ],
   "source": [
    "arquivo = path.join(folder, 'dados.txt')\n",
    "print(arquivo)\n",
    "\n",
    "with open(arquivo, 'w') as f:\n",
    "  for i in range(1,1000):\n",
    "    f.write(f\"bem vindo {i} a manipulacao de arquivo\\n\")"
   ]
  },
  {
   "cell_type": "code",
   "execution_count": 9,
   "metadata": {},
   "outputs": [
    {
     "name": "stdout",
     "output_type": "stream",
     "text": [
      "03 - Condicionais.pdf\n",
      "Capítulo - Lendo e escrevendo arquivos.pdf\n",
      "Capítulo - Strings.pdf\n",
      "Capítulo - Expressões Regulares.pdf\n",
      "06 - Listas, Dicionarios e Tuplas.pdf\n",
      "05 - Arquivos.pdf\n",
      "04 - Repeticoes + Math.pdf\n",
      "02 - Tipos de Dados, Variaveis, Expressoes e I_O.pdf\n",
      "01 - Introducao a Python.pdf\n",
      "07 - Funcoes.pdf\n"
     ]
    }
   ],
   "source": [
    "for file in listdir(path.join(basefolder, '..', 'slides')):\n",
    "  print(file)"
   ]
  }
 ],
 "metadata": {
  "kernelspec": {
   "display_name": ".venv",
   "language": "python",
   "name": "python3"
  },
  "language_info": {
   "codemirror_mode": {
    "name": "ipython",
    "version": 3
   },
   "file_extension": ".py",
   "mimetype": "text/x-python",
   "name": "python",
   "nbconvert_exporter": "python",
   "pygments_lexer": "ipython3",
   "version": "3.11.5"
  }
 },
 "nbformat": 4,
 "nbformat_minor": 2
}
