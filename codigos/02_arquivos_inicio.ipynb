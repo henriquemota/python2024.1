{
 "cells": [
  {
   "cell_type": "markdown",
   "metadata": {},
   "source": [
    "# Manipulação de arquivos - Leitura"
   ]
  },
  {
   "cell_type": "markdown",
   "metadata": {},
   "source": [
    "## Import as bibliotecas e cria a variável com a pasta dos arquivos"
   ]
  },
  {
   "cell_type": "code",
   "execution_count": 9,
   "metadata": {},
   "outputs": [
    {
     "name": "stdout",
     "output_type": "stream",
     "text": [
      "/Users/henriquemota/Workspace/estacio/rad/codigos/arquivos\n"
     ]
    }
   ],
   "source": [
    "from os import getcwd, path\n",
    "\n",
    "folder = path.join(getcwd(), \"arquivos\")\n",
    "print(folder)"
   ]
  },
  {
   "cell_type": "markdown",
   "metadata": {},
   "source": [
    "## Realiza a abertura, leitura e fechamento do arquivo"
   ]
  },
  {
   "cell_type": "code",
   "execution_count": 10,
   "metadata": {},
   "outputs": [
    {
     "name": "stdout",
     "output_type": "stream",
     "text": [
      "['joao#10#6#8.5\\n', 'maria#9#6.8#8.5\\n', 'pedro#7#4#3.8\\n', 'andre#10#6#8.5\\n', 'fatima#9#6.8#8.5\\n', 'saulo#7.7#4.9#7.8\\n', 'joana#8.3#48.7#6.8\\n', 'tiago#6.8#5.3#5.8\\n', 'bruno#7.5#6.8#4.8']\n"
     ]
    }
   ],
   "source": [
    "arquivo = open(path.join(folder, \"dados.txt\"))\n",
    "dados = arquivo.readlines()\n",
    "arquivo.close()\n",
    "print(dados)"
   ]
  },
  {
   "cell_type": "markdown",
   "metadata": {},
   "source": [
    "## Realiza a manipulação dos dados do arquivo"
   ]
  },
  {
   "cell_type": "code",
   "execution_count": 11,
   "metadata": {},
   "outputs": [
    {
     "name": "stdout",
     "output_type": "stream",
     "text": [
      "olá joao, suas notas foram 10, 6 e 8.5\n",
      "olá maria, suas notas foram 9, 6.8 e 8.5\n",
      "olá pedro, suas notas foram 7, 4 e 3.8\n",
      "olá andre, suas notas foram 10, 6 e 8.5\n",
      "olá fatima, suas notas foram 9, 6.8 e 8.5\n",
      "olá saulo, suas notas foram 7.7, 4.9 e 7.8\n",
      "olá joana, suas notas foram 8.3, 48.7 e 6.8\n",
      "olá tiago, suas notas foram 6.8, 5.3 e 5.8\n",
      "olá bruno, suas notas foram 7.5, 6.8 e 4.\n"
     ]
    }
   ],
   "source": [
    "for linha in dados:\n",
    "  valores = linha[0:-1].split('#')\n",
    "  print(f\"olá {valores[0]}, suas notas foram {valores[1]}, {valores[2]} e {valores[3]}\")"
   ]
  },
  {
   "cell_type": "markdown",
   "metadata": {},
   "source": [
    "## Segunda forma de manipular arquivos"
   ]
  },
  {
   "cell_type": "code",
   "execution_count": 12,
   "metadata": {},
   "outputs": [
    {
     "name": "stdout",
     "output_type": "stream",
     "text": [
      "['joao#10#6#8.5\\n', 'maria#9#6.8#8.5\\n', 'pedro#7#4#3.8\\n', 'andre#10#6#8.5\\n', 'fatima#9#6.8#8.5\\n', 'saulo#7.7#4.9#7.8\\n', 'joana#8.3#48.7#6.8\\n', 'tiago#6.8#5.3#5.8\\n', 'bruno#7.5#6.8#4.8']\n"
     ]
    }
   ],
   "source": [
    "with open(path.join(folder, 'dados.txt')) as arquivo:\n",
    "  dados = arquivo.readlines()\n",
    "\n",
    "print(dados)"
   ]
  }
 ],
 "metadata": {
  "kernelspec": {
   "display_name": ".venv",
   "language": "python",
   "name": "python3"
  },
  "language_info": {
   "codemirror_mode": {
    "name": "ipython",
    "version": 3
   },
   "file_extension": ".py",
   "mimetype": "text/x-python",
   "name": "python",
   "nbconvert_exporter": "python",
   "pygments_lexer": "ipython3",
   "version": "3.11.5"
  }
 },
 "nbformat": 4,
 "nbformat_minor": 2
}
