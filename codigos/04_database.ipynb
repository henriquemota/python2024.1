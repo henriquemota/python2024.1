{
 "cells": [
  {
   "cell_type": "code",
   "execution_count": 2,
   "metadata": {},
   "outputs": [],
   "source": [
    "import sqlite3 as connector\n",
    "from os import path"
   ]
  },
  {
   "cell_type": "code",
   "execution_count": 4,
   "metadata": {},
   "outputs": [],
   "source": [
    "conn = connector.connect(path.join(\"db\", \"database.sqlite\"))\n",
    "conn.close()"
   ]
  },
  {
   "cell_type": "code",
   "execution_count": 5,
   "metadata": {},
   "outputs": [],
   "source": [
    "with connector.connect(path.join(\"db\", \"database.sqlite\")) as conn:\n",
    "  sql = \"\"\"\n",
    "    create table contatos (\n",
    "      id integer primary key autoincrement,\n",
    "      nome text,\n",
    "      telefone text\n",
    "    );\n",
    "  \"\"\" \n",
    "\n",
    "  cursor = conn.cursor()\n",
    "  cursor.execute(sql)\n",
    "  conn.commit()"
   ]
  },
  {
   "cell_type": "code",
   "execution_count": 7,
   "metadata": {},
   "outputs": [
    {
     "data": {
      "text/plain": [
       "<sqlite3.Cursor at 0x10cc84dc0>"
      ]
     },
     "execution_count": 7,
     "metadata": {},
     "output_type": "execute_result"
    }
   ],
   "source": [
    "with connector.connect(path.join(\"db\", \"database.sqlite\")) as conn:\n",
    "  sql = \"\"\"\n",
    "    insert into contatos (nome, telefone) values ('henrique', '11111111');\n",
    "  \"\"\" \n",
    "  cursor = conn.cursor()\n",
    "  cursor.execute(sql)"
   ]
  },
  {
   "cell_type": "code",
   "execution_count": 8,
   "metadata": {},
   "outputs": [],
   "source": []
  }
 ],
 "metadata": {
  "kernelspec": {
   "display_name": ".venv",
   "language": "python",
   "name": "python3"
  },
  "language_info": {
   "codemirror_mode": {
    "name": "ipython",
    "version": 3
   },
   "file_extension": ".py",
   "mimetype": "text/x-python",
   "name": "python",
   "nbconvert_exporter": "python",
   "pygments_lexer": "ipython3",
   "version": "3.11.9"
  }
 },
 "nbformat": 4,
 "nbformat_minor": 2
}
