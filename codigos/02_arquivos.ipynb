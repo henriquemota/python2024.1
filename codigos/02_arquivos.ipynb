{
 "cells": [
  {
   "cell_type": "markdown",
   "metadata": {},
   "source": [
    "# Trabalhando com arquivos"
   ]
  },
  {
   "cell_type": "markdown",
   "metadata": {},
   "source": [
    "## Recupera o diretorio atual"
   ]
  },
  {
   "cell_type": "code",
   "execution_count": 1,
   "metadata": {},
   "outputs": [
    {
     "name": "stdout",
     "output_type": "stream",
     "text": [
      "/Users/henriquemota/Workspace/estacio/rad/codigos\n",
      "/Users/henriquemota/Workspace/estacio/rad/codigos/arquivos\n"
     ]
    }
   ],
   "source": [
    "from os import path, getcwd\n",
    "\n",
    "print(getcwd())\n",
    "\n",
    "folder = path.join(getcwd(), 'arquivos')\n",
    "\n",
    "print(folder)"
   ]
  },
  {
   "cell_type": "markdown",
   "metadata": {},
   "source": [
    "## Navega nos dado dos arquivo"
   ]
  },
  {
   "cell_type": "code",
   "execution_count": 4,
   "metadata": {},
   "outputs": [
    {
     "name": "stdout",
     "output_type": "stream",
     "text": [
      "Henrique Mota\n",
      "mota.henrique@gmail.com\n",
      "85988454455\n",
      "\n",
      "Joao da Silva\n",
      "joao@gmail.com\n",
      "85999999999\n"
     ]
    }
   ],
   "source": [
    "with open(path.join(folder, 'arquivo.txt')) as f:\n",
    "  data = f.readlines()\n",
    "  for item in data:\n",
    "    atributos = item.split(';')\n",
    "    for atributo in atributos:\n",
    "      print(atributo)"
   ]
  },
  {
   "cell_type": "markdown",
   "metadata": {},
   "source": [
    "## Utiliza uma biblioteca externa (pandas) para fazer a mesma coisa\n",
    "https://pandas.pydata.org"
   ]
  },
  {
   "cell_type": "code",
   "execution_count": 11,
   "metadata": {},
   "outputs": [
    {
     "name": "stdout",
     "output_type": "stream",
     "text": [
      "            nome                    email     telefone\n",
      "0  Henrique Mota  mota.henrique@gmail.com  85988454455\n",
      "1  Joao da Silva           joao@gmail.com  85999999999\n"
     ]
    }
   ],
   "source": [
    "import pandas as pd\n",
    "\n",
    "df = pd.read_csv(path.join(folder, 'arquivo.txt'), sep=';', header=None)\n",
    "df.columns = ['nome', 'email', 'telefone']\n",
    "print(df.head())"
   ]
  }
 ],
 "metadata": {
  "kernelspec": {
   "display_name": ".venv",
   "language": "python",
   "name": "python3"
  },
  "language_info": {
   "codemirror_mode": {
    "name": "ipython",
    "version": 3
   },
   "file_extension": ".py",
   "mimetype": "text/x-python",
   "name": "python",
   "nbconvert_exporter": "python",
   "pygments_lexer": "ipython3",
   "version": "3.11.5"
  }
 },
 "nbformat": 4,
 "nbformat_minor": 2
}
