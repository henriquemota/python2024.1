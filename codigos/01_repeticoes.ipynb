{
 "cells": [
  {
   "cell_type": "markdown",
   "metadata": {},
   "source": [
    "# Calcular a média de um aluno"
   ]
  },
  {
   "cell_type": "code",
   "execution_count": 1,
   "metadata": {},
   "outputs": [],
   "source": [
    "n1 = float(input('informe a nota avI'))\n",
    "n2 = float(input('informe a nota avII'))"
   ]
  },
  {
   "cell_type": "code",
   "execution_count": 2,
   "metadata": {},
   "outputs": [],
   "source": [
    "def calcularMedia(n1, n2):\n",
    "  return (n1 + n2) / 2"
   ]
  },
  {
   "cell_type": "code",
   "execution_count": 5,
   "metadata": {},
   "outputs": [],
   "source": [
    "def imprimirResultado(media):\n",
    "  if (media < 6): return f'Reprovado com media {media}'\n",
    "  elif (media < 8): return f'Passou raspando com media {media}'\n",
    "  else: return f'Muito bem, media {media}'"
   ]
  },
  {
   "cell_type": "code",
   "execution_count": 6,
   "metadata": {},
   "outputs": [
    {
     "data": {
      "text/plain": [
       "'Passou raspando com media 7.45'"
      ]
     },
     "execution_count": 6,
     "metadata": {},
     "output_type": "execute_result"
    }
   ],
   "source": [
    "media = calcularMedia(n1, n2)\n",
    "imprimirResultado(media)"
   ]
  },
  {
   "cell_type": "code",
   "execution_count": 15,
   "metadata": {},
   "outputs": [
    {
     "name": "stdout",
     "output_type": "stream",
     "text": [
      "3\n",
      "9\n",
      "81\n",
      "6561\n",
      "43046721\n",
      "1853020188851841\n",
      "3433683820292512484657849089281\n",
      "11790184577738583171520872861412518665678211592275841109096961\n",
      "139008452377144732764939786789661303114218850808529137991604824430036072629766435941001769154109609521811665540548899435521\n"
     ]
    }
   ],
   "source": [
    "i = 1\n",
    "x = 3\n",
    "while i < 10:\n",
    "  print(x)\n",
    "  x**=2\n",
    "  i+=1\n"
   ]
  },
  {
   "cell_type": "markdown",
   "metadata": {},
   "source": [
    "# Calcular a média para N alunos"
   ]
  },
  {
   "cell_type": "code",
   "execution_count": 5,
   "metadata": {},
   "outputs": [
    {
     "name": "stdout",
     "output_type": "stream",
     "text": [
      "aluno 1 foi aprovado com média 6.3\n",
      "aluno 2 foi aprovado com média 7.8\n",
      "lamento, aluno 3 foi reprovado com média 4.1\n",
      "lamento, aluno 4 foi reprovado com média 5.2\n"
     ]
    }
   ],
   "source": [
    "n = int(input(\"informe o numero de alunos\"))\n",
    "\n",
    "controle = 1\n",
    "while controle <= n:\n",
    "  n1 = float(input('informe a primeira nota'))\n",
    "  n2 = float(input('informe a segunda nota'))\n",
    "\n",
    "  media = round((n1 + n2) / 2,1)\n",
    "\n",
    "  if media >= 6:\n",
    "    print(f'aluno {controle} foi aprovado com média {media}')\n",
    "  else: \n",
    "    print(f'lamento, aluno {controle} foi reprovado com média {media}')\n",
    "\n",
    "  controle += 1"
   ]
  }
 ],
 "metadata": {
  "kernelspec": {
   "display_name": ".venv",
   "language": "python",
   "name": "python3"
  },
  "language_info": {
   "codemirror_mode": {
    "name": "ipython",
    "version": 3
   },
   "file_extension": ".py",
   "mimetype": "text/x-python",
   "name": "python",
   "nbconvert_exporter": "python",
   "pygments_lexer": "ipython3",
   "version": "3.11.5"
  }
 },
 "nbformat": 4,
 "nbformat_minor": 2
}
