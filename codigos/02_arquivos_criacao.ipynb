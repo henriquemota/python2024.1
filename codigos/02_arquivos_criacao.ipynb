{
 "cells": [
  {
   "cell_type": "markdown",
   "metadata": {},
   "source": [
    "# Criando arquivos"
   ]
  },
  {
   "cell_type": "code",
   "execution_count": 2,
   "metadata": {},
   "outputs": [
    {
     "name": "stdout",
     "output_type": "stream",
     "text": [
      "['valor#1\\n', 'valor#2\\n', 'valor#3\\n', 'valor#4\\n', 'valor#5\\n', 'valor#6\\n', 'valor#7\\n', 'valor#8\\n', 'valor#9\\n', 'valor#10\\n', 'valor#11\\n', 'valor#12\\n', 'valor#13\\n', 'valor#14\\n', 'valor#15\\n', 'valor#16\\n', 'valor#17\\n', 'valor#18\\n', 'valor#19\\n', 'valor#20\\n', 'valor#21\\n', 'valor#22\\n', 'valor#23\\n', 'valor#24\\n', 'valor#25\\n', 'valor#26\\n', 'valor#27\\n', 'valor#28\\n', 'valor#29\\n', 'valor#30\\n', 'valor#31\\n', 'valor#32\\n', 'valor#33\\n', 'valor#34\\n', 'valor#35\\n', 'valor#36\\n', 'valor#37\\n', 'valor#38\\n', 'valor#39\\n', 'valor#40\\n', 'valor#41\\n', 'valor#42\\n', 'valor#43\\n', 'valor#44\\n', 'valor#45\\n', 'valor#46\\n', 'valor#47\\n', 'valor#48\\n', 'valor#49\\n', 'valor#50\\n', 'valor#51\\n', 'valor#52\\n', 'valor#53\\n', 'valor#54\\n', 'valor#55\\n', 'valor#56\\n', 'valor#57\\n', 'valor#58\\n', 'valor#59\\n', 'valor#60\\n', 'valor#61\\n', 'valor#62\\n', 'valor#63\\n', 'valor#64\\n', 'valor#65\\n', 'valor#66\\n', 'valor#67\\n', 'valor#68\\n', 'valor#69\\n', 'valor#70\\n', 'valor#71\\n', 'valor#72\\n', 'valor#73\\n', 'valor#74\\n', 'valor#75\\n', 'valor#76\\n', 'valor#77\\n', 'valor#78\\n', 'valor#79\\n', 'valor#80\\n', 'valor#81\\n', 'valor#82\\n', 'valor#83\\n', 'valor#84\\n', 'valor#85\\n', 'valor#86\\n', 'valor#87\\n', 'valor#88\\n', 'valor#89\\n', 'valor#90\\n', 'valor#91\\n', 'valor#92\\n', 'valor#93\\n', 'valor#94\\n', 'valor#95\\n', 'valor#96\\n', 'valor#97\\n', 'valor#98\\n', 'valor#99\\n', 'valor#100\\n']\n"
     ]
    }
   ],
   "source": [
    "dados = []\n",
    "for i in range(0,100):\n",
    "  dados.append(f\"valor#{i+1}\\n\")\n",
    "\n",
    "print(dados)"
   ]
  },
  {
   "cell_type": "code",
   "execution_count": 8,
   "metadata": {},
   "outputs": [
    {
     "name": "stdout",
     "output_type": "stream",
     "text": [
      "gravou\n"
     ]
    }
   ],
   "source": [
    "from os import path, getcwd\n",
    "file = path.join(getcwd(), \"arquivos\", \"numeros.txt\")\n",
    "\n",
    "with open(file=file, mode=\"a\") as f:\n",
    "  f.writelines(dados)\n",
    "\n",
    "print(\"gravou\")"
   ]
  }
 ],
 "metadata": {
  "kernelspec": {
   "display_name": ".venv",
   "language": "python",
   "name": "python3"
  },
  "language_info": {
   "codemirror_mode": {
    "name": "ipython",
    "version": 3
   },
   "file_extension": ".py",
   "mimetype": "text/x-python",
   "name": "python",
   "nbconvert_exporter": "python",
   "pygments_lexer": "ipython3",
   "version": "3.11.5"
  }
 },
 "nbformat": 4,
 "nbformat_minor": 2
}
