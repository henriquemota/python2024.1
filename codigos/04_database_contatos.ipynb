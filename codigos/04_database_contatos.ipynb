{
 "cells": [
  {
   "cell_type": "code",
   "execution_count": 3,
   "metadata": {},
   "outputs": [],
   "source": [
    "import sqlite3 as connector\n",
    "from os import path, getcwd"
   ]
  },
  {
   "cell_type": "markdown",
   "metadata": {},
   "source": [
    "### criar a conexao com o banco de dados"
   ]
  },
  {
   "cell_type": "code",
   "execution_count": 8,
   "metadata": {},
   "outputs": [
    {
     "name": "stdout",
     "output_type": "stream",
     "text": [
      "banco de dados criado com sucesso!\n"
     ]
    }
   ],
   "source": [
    "try:\n",
    "  with connector.connect(path.join(getcwd(), \"db\", \"contatos.sqlite\")) as conn:\n",
    "    cursor = conn.cursor()\n",
    "\n",
    "    query = \"\"\"\n",
    "      create table cidades (\n",
    "        codigo integer not null primary key autoincrement,\n",
    "        nome text not null,\n",
    "        uf text not null\n",
    "      );\n",
    "\n",
    "      create table contatos (\n",
    "        codigo integer primary key autoincrement,\n",
    "        nome text not null,\n",
    "        telefone text not null,\n",
    "        email text not null,\n",
    "        codigo_cidade integer not null \n",
    "          references cidades (codigo)\n",
    "      );\n",
    "    \"\"\"\n",
    "\n",
    "    cursor.executescript(query)\n",
    "    print(\"banco de dados criado com sucesso!\")\n",
    "except Exception as e:\n",
    "  print(str(e))"
   ]
  },
  {
   "cell_type": "code",
   "execution_count": null,
   "metadata": {},
   "outputs": [],
   "source": []
  }
 ],
 "metadata": {
  "kernelspec": {
   "display_name": ".venv",
   "language": "python",
   "name": "python3"
  },
  "language_info": {
   "codemirror_mode": {
    "name": "ipython",
    "version": 3
   },
   "file_extension": ".py",
   "mimetype": "text/x-python",
   "name": "python",
   "nbconvert_exporter": "python",
   "pygments_lexer": "ipython3",
   "version": "3.11.9"
  }
 },
 "nbformat": 4,
 "nbformat_minor": 2
}
