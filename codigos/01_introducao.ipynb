{
 "cells": [
  {
   "cell_type": "code",
   "execution_count": 1,
   "metadata": {},
   "outputs": [
    {
     "name": "stdout",
     "output_type": "stream",
     "text": [
      "ola mundo\n",
      "None\n"
     ]
    }
   ],
   "source": [
    "nome = print(\"ola mundo\")\n",
    "print(nome)"
   ]
  },
  {
   "cell_type": "code",
   "execution_count": 2,
   "metadata": {},
   "outputs": [
    {
     "name": "stdout",
     "output_type": "stream",
     "text": [
      "henrique\n"
     ]
    }
   ],
   "source": [
    "nome = input(\"informe seu nome\")\n",
    "print(nome)"
   ]
  },
  {
   "cell_type": "code",
   "execution_count": 7,
   "metadata": {},
   "outputs": [
    {
     "name": "stdout",
     "output_type": "stream",
     "text": [
      "11\n",
      "2\n"
     ]
    }
   ],
   "source": [
    "x = \"1\"\n",
    "y = 1\n",
    "print(x + str(y))\n",
    "print(int(x) + y)"
   ]
  },
  {
   "cell_type": "code",
   "execution_count": 15,
   "metadata": {},
   "outputs": [
    {
     "name": "stdout",
     "output_type": "stream",
     "text": [
      "<class 'int'>\n",
      "<class 'float'>\n",
      "<class 'bool'>\n",
      "<class 'list'>\n",
      "<class 'str'>\n",
      "bem vindo ao python v be tho\n",
      "o valor de x é 10\n",
      "o valor de x é 20\n"
     ]
    }
   ],
   "source": [
    "a = 1\n",
    "b = 1.1\n",
    "c = True\n",
    "d = [1, \"a\", True, {\"nome\": \"Henrique\", \"idade\": 49}]\n",
    "e = \"bem vindo ao python\"\n",
    "\n",
    "print(type(a))\n",
    "print(type(b))\n",
    "print(type(c))\n",
    "print(type(d))\n",
    "print(type(e))\n",
    "\n",
    "print(e, e[4], e[0:2], e[-4:-1])\n",
    "\n",
    "print(\"o valor de x é %d\"%10)\n",
    "print(f\"o valor de x é {10 * 2}\")\n"
   ]
  },
  {
   "cell_type": "markdown",
   "metadata": {},
   "source": [
    "# Cálculo do IMC\n",
    "IMC  = Peso / (Altura * Altura)"
   ]
  },
  {
   "cell_type": "code",
   "execution_count": 16,
   "metadata": {},
   "outputs": [],
   "source": [
    "peso = input('informe seu peso: ')\n",
    "altura = input('informe sua altura (considere \".\" para casas decimais): ')"
   ]
  },
  {
   "cell_type": "code",
   "execution_count": 18,
   "metadata": {},
   "outputs": [
    {
     "name": "stdout",
     "output_type": "stream",
     "text": [
      "<class 'str'> <class 'str'>\n",
      "<class 'float'> <class 'float'>\n"
     ]
    }
   ],
   "source": [
    "print(type(peso), type(altura))\n",
    "\n",
    "peso = float(peso)\n",
    "altura = float(altura)\n",
    "\n",
    "print(type(peso), type(altura))\n"
   ]
  },
  {
   "cell_type": "code",
   "execution_count": 19,
   "metadata": {},
   "outputs": [
    {
     "name": "stdout",
     "output_type": "stream",
     "text": [
      "36.332408508389484\n"
     ]
    }
   ],
   "source": [
    "imc = peso / (altura ** 2)\n",
    "print(imc)"
   ]
  },
  {
   "cell_type": "code",
   "execution_count": 21,
   "metadata": {},
   "outputs": [
    {
     "name": "stdout",
     "output_type": "stream",
     "text": [
      "seu imc é de 36.33\n"
     ]
    }
   ],
   "source": [
    "print(f\"seu imc é de {round(imc,2)}\")"
   ]
  },
  {
   "cell_type": "code",
   "execution_count": 22,
   "metadata": {},
   "outputs": [],
   "source": [
    "peso = input('informe seu peso: ')\n",
    "altura = input('informe sua altura (considere \".\" para casas decimais): ')"
   ]
  },
  {
   "cell_type": "code",
   "execution_count": 23,
   "metadata": {},
   "outputs": [],
   "source": [
    "def calcular_imc(peso=0, altura=0):\n",
    "  imc = float(peso) / (float(altura) ** 2)\n",
    "  return round(imc, 1)"
   ]
  },
  {
   "cell_type": "code",
   "execution_count": 24,
   "metadata": {},
   "outputs": [
    {
     "name": "stdout",
     "output_type": "stream",
     "text": [
      "o seu imc é 36.33\n"
     ]
    }
   ],
   "source": [
    "imc = calcular_imc(peso=peso, altura=altura)\n",
    "if imc < 16.9:\n",
    "  print(\"muito abaixo do peso\")\n",
    "elif imc < 18.4:\n",
    "  print(\"abaixo do peso\")\n",
    "elif imc < 24.9:\n",
    "  print(\"peso normal\")\n",
    "elif imc < 29.9:\n",
    "  print(\"acima do peso\")\n",
    "elif imc < 34.9:\n",
    "  print(\"obesidade grau I\")\n",
    "elif imc < 40:\n",
    "  print(\"obesidade grau II\")\n",
    "else: \n",
    "  print(\"LASCOU!!! obesidade grau II\")\n",
    "\n",
    "# print(f\"o seu imc é {calcular_imc(peso=peso, altura=altura)}\")"
   ]
  }
 ],
 "metadata": {
  "kernelspec": {
   "display_name": "Python 3",
   "language": "python",
   "name": "python3"
  },
  "language_info": {
   "codemirror_mode": {
    "name": "ipython",
    "version": 3
   },
   "file_extension": ".py",
   "mimetype": "text/x-python",
   "name": "python",
   "nbconvert_exporter": "python",
   "pygments_lexer": "ipython3",
   "version": "3.11.5"
  }
 },
 "nbformat": 4,
 "nbformat_minor": 2
}
