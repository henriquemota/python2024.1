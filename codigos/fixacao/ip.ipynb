{
 "cells": [
  {
   "cell_type": "code",
   "execution_count": 1,
   "metadata": {},
   "outputs": [],
   "source": [
    "from os import path, getcwd\n",
    "file = path.join(getcwd(), 'ips.txt')"
   ]
  },
  {
   "cell_type": "code",
   "execution_count": 2,
   "metadata": {},
   "outputs": [
    {
     "name": "stdout",
     "output_type": "stream",
     "text": [
      "['200.135.80.9\\n', '192.168.1.1\\n', '8.35.67.74\\n', '257.32.4.5\\n', '85.345.1.2\\n', '1.2.3.4\\n', '9.8.234.5\\n', '192.168.0.256']\n"
     ]
    }
   ],
   "source": [
    "with open(file) as f:\n",
    "  data = f.readlines()\n",
    "\n",
    "print(data)"
   ]
  },
  {
   "cell_type": "code",
   "execution_count": 4,
   "metadata": {},
   "outputs": [
    {
     "name": "stdout",
     "output_type": "stream",
     "text": [
      "['257.32.4.5', '85.345.1.2', '192.168.0.256']\n"
     ]
    }
   ],
   "source": [
    "invalidos = []\n",
    "for item in data:\n",
    "  ips = item.replace(\"\\n\", \"\").split(\".\")\n",
    "  ips = list(map(int, ips)) # Converter para uma lista de inteiros\n",
    "  if max(ips) > 255 or min(ips) < 0: invalidos.append(item.replace(\"\\n\", \"\"))\n",
    "\n",
    "print(invalidos)\n"
   ]
  }
 ],
 "metadata": {
  "kernelspec": {
   "display_name": ".venv",
   "language": "python",
   "name": "python3"
  },
  "language_info": {
   "codemirror_mode": {
    "name": "ipython",
    "version": 3
   },
   "file_extension": ".py",
   "mimetype": "text/x-python",
   "name": "python",
   "nbconvert_exporter": "python",
   "pygments_lexer": "ipython3",
   "version": "3.11.5"
  }
 },
 "nbformat": 4,
 "nbformat_minor": 2
}
