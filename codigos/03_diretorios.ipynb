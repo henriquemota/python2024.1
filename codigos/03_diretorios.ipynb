{
 "cells": [
  {
   "cell_type": "code",
   "execution_count": 19,
   "metadata": {},
   "outputs": [],
   "source": [
    "import os\n",
    "import shutil"
   ]
  },
  {
   "cell_type": "markdown",
   "metadata": {},
   "source": [
    "### Lista os dados de um diretorio"
   ]
  },
  {
   "cell_type": "code",
   "execution_count": 17,
   "metadata": {},
   "outputs": [
    {
     "name": "stdout",
     "output_type": "stream",
     "text": [
      "03 diretorios 03_diretorios.ipynb\n",
      "01 math 01_math.ipynb\n",
      "01 introducao 01_introducao.ipynb\n",
      "02 arquivos leitura pandas 02_arquivos_leitura_pandas.ipynb\n",
      "02 arquivos criacao 02_arquivos_criacao.ipynb\n",
      "02 arquivos ativodade 02_arquivos_ativodade.ipynb\n",
      "01 repeticoes 01_repeticoes.ipynb\n",
      "03 exceptio 03_exceptio.ipynb\n",
      "01 repeticoes break continue 01_repeticoes_break_continue.ipynb\n",
      "02 arquivos inicio 02_arquivos_inicio.ipynb\n",
      "03 pandas 03_pandas.ipynb\n",
      "03 colecoes 03_colecoes.ipynb\n",
      "01 repeticoes for 01_repeticoes_for.ipynb\n",
      "01 decicoes repeticoes 01_decicoes_repeticoes.ipynb\n",
      "01 decisores 01_decisores.ipynb\n"
     ]
    }
   ],
   "source": [
    "arquivos = os.listdir()\n",
    "\n",
    "# Imprimir os nomes dos arquivos\n",
    "for arquivo in arquivos:\n",
    "    if arquivo.endswith('ipynb'):\n",
    "      tema = arquivo[0:2]\n",
    "      topico = arquivo[3:-6]\n",
    "      print(tema, topico.replace(\"_\", \" \"), arquivo)"
   ]
  },
  {
   "cell_type": "markdown",
   "metadata": {},
   "source": [
    "### Copia os dados de uma pasta para outra"
   ]
  },
  {
   "cell_type": "code",
   "execution_count": 20,
   "metadata": {},
   "outputs": [],
   "source": [
    "origem = os.path.join(\"arquivos\")\n",
    "destino = os.path.join(\"temporario\")\n",
    "\n",
    "arquivos = os.listdir(origem)\n",
    "for arquivo in arquivos:\n",
    "  shutil.copyfile(os.path.join(origem, arquivo), os.path.join(destino, arquivo) )"
   ]
  },
  {
   "cell_type": "markdown",
   "metadata": {},
   "source": [
    "### Remove um arquivo de um diretorio"
   ]
  },
  {
   "cell_type": "code",
   "execution_count": 22,
   "metadata": {},
   "outputs": [
    {
     "ename": "FileNotFoundError",
     "evalue": "[Errno 2] No such file or directory: 'temporario/alunos.csv'",
     "output_type": "error",
     "traceback": [
      "\u001b[0;31m---------------------------------------------------------------------------\u001b[0m",
      "\u001b[0;31mFileNotFoundError\u001b[0m                         Traceback (most recent call last)",
      "Cell \u001b[0;32mIn[22], line 1\u001b[0m\n\u001b[0;32m----> 1\u001b[0m \u001b[43mos\u001b[49m\u001b[38;5;241;43m.\u001b[39;49m\u001b[43mremove\u001b[49m\u001b[43m(\u001b[49m\u001b[43mos\u001b[49m\u001b[38;5;241;43m.\u001b[39;49m\u001b[43mpath\u001b[49m\u001b[38;5;241;43m.\u001b[39;49m\u001b[43mjoin\u001b[49m\u001b[43m(\u001b[49m\u001b[43mdestino\u001b[49m\u001b[43m,\u001b[49m\u001b[43m \u001b[49m\u001b[38;5;124;43m\"\u001b[39;49m\u001b[38;5;124;43malunos.csv\u001b[39;49m\u001b[38;5;124;43m\"\u001b[39;49m\u001b[43m)\u001b[49m\u001b[43m)\u001b[49m\n",
      "\u001b[0;31mFileNotFoundError\u001b[0m: [Errno 2] No such file or directory: 'temporario/alunos.csv'"
     ]
    }
   ],
   "source": [
    "os.remove(os.path.join(destino, \"alunos.csv\"))"
   ]
  },
  {
   "cell_type": "markdown",
   "metadata": {},
   "source": [
    "### Renomeia um arquivo"
   ]
  },
  {
   "cell_type": "code",
   "execution_count": 23,
   "metadata": {},
   "outputs": [],
   "source": [
    "os.rename(os.path.join(destino, \"aprovados.txt\"), os.path.join(destino, \"aprovados.csv\"))"
   ]
  },
  {
   "cell_type": "code",
   "execution_count": null,
   "metadata": {},
   "outputs": [],
   "source": []
  }
 ],
 "metadata": {
  "kernelspec": {
   "display_name": ".venv",
   "language": "python",
   "name": "python3"
  },
  "language_info": {
   "codemirror_mode": {
    "name": "ipython",
    "version": 3
   },
   "file_extension": ".py",
   "mimetype": "text/x-python",
   "name": "python",
   "nbconvert_exporter": "python",
   "pygments_lexer": "ipython3",
   "version": "3.11.9"
  }
 },
 "nbformat": 4,
 "nbformat_minor": 2
}
